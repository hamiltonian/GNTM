{
 "cells": [
  {
   "cell_type": "markdown",
   "metadata": {},
   "source": [
    "# Importe"
   ]
  },
  {
   "cell_type": "code",
   "execution_count": 1,
   "metadata": {
    "ExecuteTime": {
     "end_time": "2019-03-19T08:29:08.315482Z",
     "start_time": "2019-03-19T08:29:06.684542Z"
    }
   },
   "outputs": [],
   "source": [
    "# Data related libraries\n",
    "import numpy as np\n",
    "import pandas as pd\n",
    "# Plotting\n",
    "import matplotlib.pyplot as plt\n",
    "from ipywidgets import interact, fixed\n",
    "from IPython.display import display, HTML\n",
    "# Convenient helpers\n",
    "from copy import copy\n",
    "from time import time\n",
    "from collections import defaultdict, Counter\n",
    "from sklearn.preprocessing import minmax_scale\n",
    "# Printing libraries and settings\n",
    "# import warnings; warnings.filterwarnings('ignore')\n",
    "pd.set_option('display.max_columns', 500)\n",
    "pd.set_option('display.float_format','{0:.2f}'.format)\n",
    "%matplotlib inline\n",
    "\n",
    "# Warungen nur einmal anzeigen\n",
    "import warnings\n",
    "warnings.filterwarnings('ignore')"
   ]
  },
  {
   "cell_type": "markdown",
   "metadata": {},
   "source": [
    "# Laden der Daten"
   ]
  },
  {
   "cell_type": "code",
   "execution_count": 2,
   "metadata": {
    "ExecuteTime": {
     "end_time": "2019-03-19T08:29:08.341483Z",
     "start_time": "2019-03-19T08:29:08.318485Z"
    }
   },
   "outputs": [
    {
     "data": {
      "text/html": [
       "<div>\n",
       "<style scoped>\n",
       "    .dataframe tbody tr th:only-of-type {\n",
       "        vertical-align: middle;\n",
       "    }\n",
       "\n",
       "    .dataframe tbody tr th {\n",
       "        vertical-align: top;\n",
       "    }\n",
       "\n",
       "    .dataframe thead th {\n",
       "        text-align: right;\n",
       "    }\n",
       "</style>\n",
       "<table border=\"1\" class=\"dataframe\">\n",
       "  <thead>\n",
       "    <tr style=\"text-align: right;\">\n",
       "      <th></th>\n",
       "      <th>Staffel</th>\n",
       "      <th>Teilnehmerin</th>\n",
       "      <th>Platzierung</th>\n",
       "      <th>Alter</th>\n",
       "      <th>Größe (cm)</th>\n",
       "      <th>Haarfarbe</th>\n",
       "      <th>Augenfarbe</th>\n",
       "      <th>Hautfarbe</th>\n",
       "      <th>Brustumfang (cm)</th>\n",
       "      <th>Taillenumfang (cm)</th>\n",
       "      <th>Hüftumfang (cm)</th>\n",
       "      <th>Kleidergröße</th>\n",
       "      <th>Schuhgröße</th>\n",
       "    </tr>\n",
       "  </thead>\n",
       "  <tbody>\n",
       "    <tr>\n",
       "      <th>0</th>\n",
       "      <td>1</td>\n",
       "      <td>Lena Gercke</td>\n",
       "      <td>1.00</td>\n",
       "      <td>17</td>\n",
       "      <td>178.00</td>\n",
       "      <td>blond</td>\n",
       "      <td>blau</td>\n",
       "      <td>hell</td>\n",
       "      <td>90.00</td>\n",
       "      <td>62.00</td>\n",
       "      <td>90.00</td>\n",
       "      <td>36.00</td>\n",
       "      <td>39.00</td>\n",
       "    </tr>\n",
       "    <tr>\n",
       "      <th>1</th>\n",
       "      <td>1</td>\n",
       "      <td>Yvonne Schröder</td>\n",
       "      <td>2.00</td>\n",
       "      <td>17</td>\n",
       "      <td>174.00</td>\n",
       "      <td>blond</td>\n",
       "      <td>blau</td>\n",
       "      <td>hell</td>\n",
       "      <td>nan</td>\n",
       "      <td>nan</td>\n",
       "      <td>nan</td>\n",
       "      <td>nan</td>\n",
       "      <td>nan</td>\n",
       "    </tr>\n",
       "    <tr>\n",
       "      <th>2</th>\n",
       "      <td>1</td>\n",
       "      <td>Jennifer Wanderer</td>\n",
       "      <td>3.00</td>\n",
       "      <td>17</td>\n",
       "      <td>178.00</td>\n",
       "      <td>braun</td>\n",
       "      <td>NaN</td>\n",
       "      <td>hell</td>\n",
       "      <td>nan</td>\n",
       "      <td>nan</td>\n",
       "      <td>nan</td>\n",
       "      <td>nan</td>\n",
       "      <td>nan</td>\n",
       "    </tr>\n",
       "    <tr>\n",
       "      <th>3</th>\n",
       "      <td>1</td>\n",
       "      <td>Janina Ortmann</td>\n",
       "      <td>4.00</td>\n",
       "      <td>20</td>\n",
       "      <td>173.00</td>\n",
       "      <td>blond</td>\n",
       "      <td>grün</td>\n",
       "      <td>hell</td>\n",
       "      <td>85.00</td>\n",
       "      <td>59.00</td>\n",
       "      <td>89.00</td>\n",
       "      <td>nan</td>\n",
       "      <td>40.00</td>\n",
       "    </tr>\n",
       "    <tr>\n",
       "      <th>4</th>\n",
       "      <td>1</td>\n",
       "      <td>Lena Meier</td>\n",
       "      <td>5.00</td>\n",
       "      <td>20</td>\n",
       "      <td>180.00</td>\n",
       "      <td>braun</td>\n",
       "      <td>grün</td>\n",
       "      <td>hell</td>\n",
       "      <td>83.00</td>\n",
       "      <td>61.00</td>\n",
       "      <td>89.00</td>\n",
       "      <td>36.00</td>\n",
       "      <td>40.00</td>\n",
       "    </tr>\n",
       "  </tbody>\n",
       "</table>\n",
       "</div>"
      ],
      "text/plain": [
       "   Staffel       Teilnehmerin  Platzierung  Alter  Größe (cm) Haarfarbe  \\\n",
       "0        1        Lena Gercke         1.00     17      178.00     blond   \n",
       "1        1    Yvonne Schröder         2.00     17      174.00     blond   \n",
       "2        1  Jennifer Wanderer         3.00     17      178.00     braun   \n",
       "3        1    Janina Ortmann          4.00     20      173.00     blond   \n",
       "4        1        Lena Meier          5.00     20      180.00     braun   \n",
       "\n",
       "  Augenfarbe Hautfarbe  Brustumfang (cm)  Taillenumfang (cm)  Hüftumfang (cm)  \\\n",
       "0       blau      hell             90.00               62.00            90.00   \n",
       "1       blau      hell               nan                 nan              nan   \n",
       "2        NaN      hell               nan                 nan              nan   \n",
       "3       grün      hell             85.00               59.00            89.00   \n",
       "4       grün      hell             83.00               61.00            89.00   \n",
       "\n",
       "   Kleidergröße  Schuhgröße  \n",
       "0         36.00       39.00  \n",
       "1           nan         nan  \n",
       "2           nan         nan  \n",
       "3           nan       40.00  \n",
       "4         36.00       40.00  "
      ]
     },
     "execution_count": 2,
     "metadata": {},
     "output_type": "execute_result"
    }
   ],
   "source": [
    "# Laden der Daten\n",
    "data  = pd.read_csv('../data/gntm.csv')\n",
    "data.head()"
   ]
  },
  {
   "cell_type": "code",
   "execution_count": 3,
   "metadata": {
    "ExecuteTime": {
     "end_time": "2019-03-19T08:29:08.386483Z",
     "start_time": "2019-03-19T08:29:08.343484Z"
    }
   },
   "outputs": [
    {
     "data": {
      "text/html": [
       "<div>\n",
       "<style scoped>\n",
       "    .dataframe tbody tr th:only-of-type {\n",
       "        vertical-align: middle;\n",
       "    }\n",
       "\n",
       "    .dataframe tbody tr th {\n",
       "        vertical-align: top;\n",
       "    }\n",
       "\n",
       "    .dataframe thead th {\n",
       "        text-align: right;\n",
       "    }\n",
       "</style>\n",
       "<table border=\"1\" class=\"dataframe\">\n",
       "  <thead>\n",
       "    <tr style=\"text-align: right;\">\n",
       "      <th></th>\n",
       "      <th>Staffel</th>\n",
       "      <th>Platzierung</th>\n",
       "      <th>Alter</th>\n",
       "      <th>Größe (cm)</th>\n",
       "      <th>Brustumfang (cm)</th>\n",
       "      <th>Taillenumfang (cm)</th>\n",
       "      <th>Hüftumfang (cm)</th>\n",
       "      <th>Kleidergröße</th>\n",
       "      <th>Schuhgröße</th>\n",
       "    </tr>\n",
       "  </thead>\n",
       "  <tbody>\n",
       "    <tr>\n",
       "      <th>count</th>\n",
       "      <td>277.00</td>\n",
       "      <td>276.00</td>\n",
       "      <td>277.00</td>\n",
       "      <td>251.00</td>\n",
       "      <td>132.00</td>\n",
       "      <td>132.00</td>\n",
       "      <td>132.00</td>\n",
       "      <td>57.00</td>\n",
       "      <td>77.00</td>\n",
       "    </tr>\n",
       "    <tr>\n",
       "      <th>mean</th>\n",
       "      <td>7.77</td>\n",
       "      <td>11.40</td>\n",
       "      <td>19.04</td>\n",
       "      <td>176.91</td>\n",
       "      <td>84.38</td>\n",
       "      <td>63.29</td>\n",
       "      <td>90.38</td>\n",
       "      <td>35.19</td>\n",
       "      <td>39.36</td>\n",
       "    </tr>\n",
       "    <tr>\n",
       "      <th>std</th>\n",
       "      <td>3.64</td>\n",
       "      <td>6.78</td>\n",
       "      <td>2.21</td>\n",
       "      <td>3.23</td>\n",
       "      <td>3.82</td>\n",
       "      <td>3.08</td>\n",
       "      <td>3.55</td>\n",
       "      <td>1.06</td>\n",
       "      <td>1.14</td>\n",
       "    </tr>\n",
       "    <tr>\n",
       "      <th>min</th>\n",
       "      <td>1.00</td>\n",
       "      <td>1.00</td>\n",
       "      <td>16.00</td>\n",
       "      <td>169.00</td>\n",
       "      <td>71.00</td>\n",
       "      <td>56.00</td>\n",
       "      <td>80.00</td>\n",
       "      <td>32.00</td>\n",
       "      <td>36.00</td>\n",
       "    </tr>\n",
       "    <tr>\n",
       "      <th>25%</th>\n",
       "      <td>5.00</td>\n",
       "      <td>6.00</td>\n",
       "      <td>17.00</td>\n",
       "      <td>175.00</td>\n",
       "      <td>82.00</td>\n",
       "      <td>61.00</td>\n",
       "      <td>89.00</td>\n",
       "      <td>34.00</td>\n",
       "      <td>39.00</td>\n",
       "    </tr>\n",
       "    <tr>\n",
       "      <th>50%</th>\n",
       "      <td>8.00</td>\n",
       "      <td>11.00</td>\n",
       "      <td>19.00</td>\n",
       "      <td>177.00</td>\n",
       "      <td>84.00</td>\n",
       "      <td>63.00</td>\n",
       "      <td>90.00</td>\n",
       "      <td>36.00</td>\n",
       "      <td>39.00</td>\n",
       "    </tr>\n",
       "    <tr>\n",
       "      <th>75%</th>\n",
       "      <td>11.00</td>\n",
       "      <td>16.00</td>\n",
       "      <td>20.00</td>\n",
       "      <td>179.00</td>\n",
       "      <td>87.00</td>\n",
       "      <td>65.00</td>\n",
       "      <td>93.00</td>\n",
       "      <td>36.00</td>\n",
       "      <td>40.00</td>\n",
       "    </tr>\n",
       "    <tr>\n",
       "      <th>max</th>\n",
       "      <td>13.00</td>\n",
       "      <td>29.00</td>\n",
       "      <td>25.00</td>\n",
       "      <td>187.00</td>\n",
       "      <td>98.00</td>\n",
       "      <td>72.00</td>\n",
       "      <td>98.00</td>\n",
       "      <td>36.00</td>\n",
       "      <td>42.00</td>\n",
       "    </tr>\n",
       "  </tbody>\n",
       "</table>\n",
       "</div>"
      ],
      "text/plain": [
       "       Staffel  Platzierung  Alter  Größe (cm)  Brustumfang (cm)  \\\n",
       "count   277.00       276.00 277.00      251.00            132.00   \n",
       "mean      7.77        11.40  19.04      176.91             84.38   \n",
       "std       3.64         6.78   2.21        3.23              3.82   \n",
       "min       1.00         1.00  16.00      169.00             71.00   \n",
       "25%       5.00         6.00  17.00      175.00             82.00   \n",
       "50%       8.00        11.00  19.00      177.00             84.00   \n",
       "75%      11.00        16.00  20.00      179.00             87.00   \n",
       "max      13.00        29.00  25.00      187.00             98.00   \n",
       "\n",
       "       Taillenumfang (cm)  Hüftumfang (cm)  Kleidergröße  Schuhgröße  \n",
       "count              132.00           132.00         57.00       77.00  \n",
       "mean                63.29            90.38         35.19       39.36  \n",
       "std                  3.08             3.55          1.06        1.14  \n",
       "min                 56.00            80.00         32.00       36.00  \n",
       "25%                 61.00            89.00         34.00       39.00  \n",
       "50%                 63.00            90.00         36.00       39.00  \n",
       "75%                 65.00            93.00         36.00       40.00  \n",
       "max                 72.00            98.00         36.00       42.00  "
      ]
     },
     "execution_count": 3,
     "metadata": {},
     "output_type": "execute_result"
    }
   ],
   "source": [
    "# Basisinfos über die Daten\n",
    "data.describe()"
   ]
  },
  {
   "cell_type": "markdown",
   "metadata": {},
   "source": [
    "# Features hinzufügen und plotten"
   ]
  },
  {
   "cell_type": "code",
   "execution_count": 4,
   "metadata": {
    "ExecuteTime": {
     "end_time": "2019-03-19T08:29:08.423483Z",
     "start_time": "2019-03-19T08:29:08.391481Z"
    }
   },
   "outputs": [
    {
     "data": {
      "text/html": [
       "<div>\n",
       "<style scoped>\n",
       "    .dataframe tbody tr th:only-of-type {\n",
       "        vertical-align: middle;\n",
       "    }\n",
       "\n",
       "    .dataframe tbody tr th {\n",
       "        vertical-align: top;\n",
       "    }\n",
       "\n",
       "    .dataframe thead th {\n",
       "        text-align: right;\n",
       "    }\n",
       "</style>\n",
       "<table border=\"1\" class=\"dataframe\">\n",
       "  <thead>\n",
       "    <tr style=\"text-align: right;\">\n",
       "      <th></th>\n",
       "      <th>Staffel</th>\n",
       "      <th>Teilnehmerin</th>\n",
       "      <th>Platzierung</th>\n",
       "      <th>Alter</th>\n",
       "      <th>Größe (cm)</th>\n",
       "      <th>Haarfarbe</th>\n",
       "      <th>Augenfarbe</th>\n",
       "      <th>Hautfarbe</th>\n",
       "      <th>Brustumfang (cm)</th>\n",
       "      <th>Taillenumfang (cm)</th>\n",
       "      <th>Hüftumfang (cm)</th>\n",
       "      <th>Kleidergröße</th>\n",
       "      <th>Schuhgröße</th>\n",
       "      <th>HB</th>\n",
       "      <th>TB</th>\n",
       "      <th>TH</th>\n",
       "      <th>GM</th>\n",
       "    </tr>\n",
       "  </thead>\n",
       "  <tbody>\n",
       "    <tr>\n",
       "      <th>0</th>\n",
       "      <td>1</td>\n",
       "      <td>Lena Gercke</td>\n",
       "      <td>1.00</td>\n",
       "      <td>17</td>\n",
       "      <td>178.00</td>\n",
       "      <td>blond</td>\n",
       "      <td>blau</td>\n",
       "      <td>hell</td>\n",
       "      <td>90.00</td>\n",
       "      <td>62.00</td>\n",
       "      <td>90.00</td>\n",
       "      <td>36.00</td>\n",
       "      <td>39.00</td>\n",
       "      <td>1.00</td>\n",
       "      <td>0.69</td>\n",
       "      <td>0.69</td>\n",
       "      <td>79.49</td>\n",
       "    </tr>\n",
       "    <tr>\n",
       "      <th>1</th>\n",
       "      <td>1</td>\n",
       "      <td>Yvonne Schröder</td>\n",
       "      <td>2.00</td>\n",
       "      <td>17</td>\n",
       "      <td>174.00</td>\n",
       "      <td>blond</td>\n",
       "      <td>blau</td>\n",
       "      <td>hell</td>\n",
       "      <td>nan</td>\n",
       "      <td>nan</td>\n",
       "      <td>nan</td>\n",
       "      <td>nan</td>\n",
       "      <td>nan</td>\n",
       "      <td>nan</td>\n",
       "      <td>nan</td>\n",
       "      <td>nan</td>\n",
       "      <td>nan</td>\n",
       "    </tr>\n",
       "    <tr>\n",
       "      <th>2</th>\n",
       "      <td>1</td>\n",
       "      <td>Jennifer Wanderer</td>\n",
       "      <td>3.00</td>\n",
       "      <td>17</td>\n",
       "      <td>178.00</td>\n",
       "      <td>braun</td>\n",
       "      <td>NaN</td>\n",
       "      <td>hell</td>\n",
       "      <td>nan</td>\n",
       "      <td>nan</td>\n",
       "      <td>nan</td>\n",
       "      <td>nan</td>\n",
       "      <td>nan</td>\n",
       "      <td>nan</td>\n",
       "      <td>nan</td>\n",
       "      <td>nan</td>\n",
       "      <td>nan</td>\n",
       "    </tr>\n",
       "    <tr>\n",
       "      <th>3</th>\n",
       "      <td>1</td>\n",
       "      <td>Janina Ortmann</td>\n",
       "      <td>4.00</td>\n",
       "      <td>20</td>\n",
       "      <td>173.00</td>\n",
       "      <td>blond</td>\n",
       "      <td>grün</td>\n",
       "      <td>hell</td>\n",
       "      <td>85.00</td>\n",
       "      <td>59.00</td>\n",
       "      <td>89.00</td>\n",
       "      <td>nan</td>\n",
       "      <td>40.00</td>\n",
       "      <td>1.05</td>\n",
       "      <td>0.69</td>\n",
       "      <td>0.66</td>\n",
       "      <td>76.42</td>\n",
       "    </tr>\n",
       "    <tr>\n",
       "      <th>4</th>\n",
       "      <td>1</td>\n",
       "      <td>Lena Meier</td>\n",
       "      <td>5.00</td>\n",
       "      <td>20</td>\n",
       "      <td>180.00</td>\n",
       "      <td>braun</td>\n",
       "      <td>grün</td>\n",
       "      <td>hell</td>\n",
       "      <td>83.00</td>\n",
       "      <td>61.00</td>\n",
       "      <td>89.00</td>\n",
       "      <td>36.00</td>\n",
       "      <td>40.00</td>\n",
       "      <td>1.07</td>\n",
       "      <td>0.73</td>\n",
       "      <td>0.69</td>\n",
       "      <td>76.67</td>\n",
       "    </tr>\n",
       "  </tbody>\n",
       "</table>\n",
       "</div>"
      ],
      "text/plain": [
       "   Staffel       Teilnehmerin  Platzierung  Alter  Größe (cm) Haarfarbe  \\\n",
       "0        1        Lena Gercke         1.00     17      178.00     blond   \n",
       "1        1    Yvonne Schröder         2.00     17      174.00     blond   \n",
       "2        1  Jennifer Wanderer         3.00     17      178.00     braun   \n",
       "3        1    Janina Ortmann          4.00     20      173.00     blond   \n",
       "4        1        Lena Meier          5.00     20      180.00     braun   \n",
       "\n",
       "  Augenfarbe Hautfarbe  Brustumfang (cm)  Taillenumfang (cm)  Hüftumfang (cm)  \\\n",
       "0       blau      hell             90.00               62.00            90.00   \n",
       "1       blau      hell               nan                 nan              nan   \n",
       "2        NaN      hell               nan                 nan              nan   \n",
       "3       grün      hell             85.00               59.00            89.00   \n",
       "4       grün      hell             83.00               61.00            89.00   \n",
       "\n",
       "   Kleidergröße  Schuhgröße   HB   TB   TH    GM  \n",
       "0         36.00       39.00 1.00 0.69 0.69 79.49  \n",
       "1           nan         nan  nan  nan  nan   nan  \n",
       "2           nan         nan  nan  nan  nan   nan  \n",
       "3           nan       40.00 1.05 0.69 0.66 76.42  \n",
       "4         36.00       40.00 1.07 0.73 0.69 76.67  "
      ]
     },
     "execution_count": 4,
     "metadata": {},
     "output_type": "execute_result"
    }
   ],
   "source": [
    "# \"Proportionen\" könnten interessant sein\n",
    "# HB = Hüftumfang / Brustumfang\n",
    "# TB = Taillenumfang / Brustumfang\n",
    "# HT = Hüftumfang / Taillenumfang\n",
    "# GM = Geometrisches Mittel\n",
    "from scipy.stats import gmean\n",
    "\n",
    "data['HB'] = data['Hüftumfang (cm)'] / data['Brustumfang (cm)']\n",
    "data['TB'] = data['Taillenumfang (cm)'] / data['Brustumfang (cm)']\n",
    "data['TH'] = data['Taillenumfang (cm)'] / data['Hüftumfang (cm)']\n",
    "data['GM'] = gmean(data[['Brustumfang (cm)','Taillenumfang (cm)','Hüftumfang (cm)']], axis=1)\n",
    "data.head()"
   ]
  },
  {
   "cell_type": "code",
   "execution_count": 5,
   "metadata": {
    "ExecuteTime": {
     "end_time": "2019-03-19T08:29:10.529473Z",
     "start_time": "2019-03-19T08:29:08.427486Z"
    }
   },
   "outputs": [
    {
     "data": {
      "image/png": "[encoded data removed]",
      "text/plain": [
       "<Figure size 1152x864 with 16 Axes>"
      ]
     },
     "metadata": {
      "needs_background": "light"
     },
     "output_type": "display_data"
    }
   ],
   "source": [
    "# Basishistogramme\n",
    "data.hist(figsize=(16,12), bins=10);"
   ]
  },
  {
   "cell_type": "code",
   "execution_count": 6,
   "metadata": {
    "ExecuteTime": {
     "end_time": "2019-03-19T08:29:10.705470Z",
     "start_time": "2019-03-19T08:29:10.532471Z"
    }
   },
   "outputs": [
    {
     "data": {
      "image/png": "[encoded data removed]",
      "text/plain": [
       "<Figure size 432x288 with 1 Axes>"
      ]
     },
     "metadata": {
      "needs_background": "light"
     },
     "output_type": "display_data"
    }
   ],
   "source": [
    "# Nominale Attribute plotten\n",
    "data['Haarfarbe'].value_counts().plot.bar(color='steelblue');"
   ]
  },
  {
   "cell_type": "code",
   "execution_count": 7,
   "metadata": {
    "ExecuteTime": {
     "end_time": "2019-03-19T08:29:10.929471Z",
     "start_time": "2019-03-19T08:29:10.707469Z"
    }
   },
   "outputs": [
    {
     "data": {
      "image/png": "[encoded data removed]",
      "text/plain": [
       "<Figure size 432x288 with 1 Axes>"
      ]
     },
     "metadata": {
      "needs_background": "light"
     },
     "output_type": "display_data"
    }
   ],
   "source": [
    "data['Augenfarbe'].value_counts().plot.bar(color='steelblue');"
   ]
  },
  {
   "cell_type": "code",
   "execution_count": 8,
   "metadata": {
    "ExecuteTime": {
     "end_time": "2019-03-19T08:29:11.061468Z",
     "start_time": "2019-03-19T08:29:10.931468Z"
    }
   },
   "outputs": [
    {
     "data": {
      "image/png": "[encoded data removed]",
      "text/plain": [
       "<Figure size 432x288 with 1 Axes>"
      ]
     },
     "metadata": {
      "needs_background": "light"
     },
     "output_type": "display_data"
    }
   ],
   "source": [
    "data['Hautfarbe'].value_counts().plot.bar(color='steelblue');"
   ]
  },
  {
   "cell_type": "markdown",
   "metadata": {},
   "source": [
    "# Lebenszeit berechnen und NANs entfernen"
   ]
  },
  {
   "cell_type": "code",
   "execution_count": 9,
   "metadata": {
    "ExecuteTime": {
     "end_time": "2019-03-19T08:29:11.078468Z",
     "start_time": "2019-03-19T08:29:11.064469Z"
    }
   },
   "outputs": [],
   "source": [
    "# Berechne Lebenszeit\n",
    "episoden = data.groupby('Staffel').count()['Platzierung'][data['Staffel']]\n",
    "episoden.index = data.index\n",
    "data['Lebenszeit'] = episoden - data['Platzierung'] + 1\n",
    "# Berechne skalierte Lebenszeit\n",
    "data['Lebenszeit (skaliert)'] = data['Lebenszeit']/episoden"
   ]
  },
  {
   "cell_type": "code",
   "execution_count": 10,
   "metadata": {
    "ExecuteTime": {
     "end_time": "2019-03-19T08:29:11.101466Z",
     "start_time": "2019-03-19T08:29:11.080502Z"
    }
   },
   "outputs": [
    {
     "data": {
      "text/plain": [
       "Staffel                  277\n",
       "Teilnehmerin             277\n",
       "Platzierung              276\n",
       "Alter                    277\n",
       "Größe (cm)               251\n",
       "Haarfarbe                134\n",
       "Augenfarbe               131\n",
       "Hautfarbe                137\n",
       "Brustumfang (cm)         132\n",
       "Taillenumfang (cm)       132\n",
       "Hüftumfang (cm)          132\n",
       "Kleidergröße              57\n",
       "Schuhgröße                77\n",
       "HB                       132\n",
       "TB                       132\n",
       "TH                       132\n",
       "GM                       132\n",
       "Lebenszeit               276\n",
       "Lebenszeit (skaliert)    276\n",
       "dtype: int64"
      ]
     },
     "execution_count": 10,
     "metadata": {},
     "output_type": "execute_result"
    }
   ],
   "source": [
    "# Existing Values\n",
    "len(data)-data.isnull().sum()"
   ]
  },
  {
   "cell_type": "code",
   "execution_count": 11,
   "metadata": {
    "ExecuteTime": {
     "end_time": "2019-03-19T08:29:11.123473Z",
     "start_time": "2019-03-19T08:29:11.105467Z"
    }
   },
   "outputs": [
    {
     "name": "stdout",
     "output_type": "stream",
     "text": [
      "Voller Datensatz (277, 12)\n",
      "Bereinigter Datensatz (132, 12)\n"
     ]
    }
   ],
   "source": [
    "# Daten bereinigen:\n",
    "data_clean = data[[#'Staffel',\n",
    "                   'Teilnehmerin',\n",
    "                   'Alter', \n",
    "                   'Größe (cm)', \n",
    "                   #'Haarfarbe', \n",
    "                   #'Augenfarbe', \n",
    "                   #'Hautfarbe',\n",
    "                   'Brustumfang (cm)', \n",
    "                   'Taillenumfang (cm)', \n",
    "                   'Hüftumfang (cm)', \n",
    "                   'HB', \n",
    "                   'TB', \n",
    "                   'TH', \n",
    "                   'GM', \n",
    "                   #'Platzierung', \n",
    "                   'Lebenszeit',\n",
    "                   'Lebenszeit (skaliert)'\n",
    "                ]]\n",
    "print('Voller Datensatz {}'.format(data_clean.shape))\n",
    "print('Bereinigter Datensatz {}'.format(data_clean.dropna().shape))\n",
    "data_clean = data_clean.dropna()\n",
    "data_clean.index = range(len(data_clean))"
   ]
  },
  {
   "cell_type": "markdown",
   "metadata": {},
   "source": [
    "# Kategorielle Attribute bearbeiten"
   ]
  },
  {
   "cell_type": "code",
   "execution_count": 12,
   "metadata": {
    "ExecuteTime": {
     "end_time": "2019-03-19T08:29:11.132465Z",
     "start_time": "2019-03-19T08:29:11.126468Z"
    }
   },
   "outputs": [],
   "source": [
    "## Liste kategorieller Attribute\n",
    "##to_split = ['Haarfarbe','Augenfarbe', 'Hautfarbe']\n",
    "#\n",
    "## Kategorielle Attribute als Index-Attribute hinzufügen\n",
    "#for s in to_split:\n",
    "#    # Erzeuge Dataframe mit one-hot-encoded Spalten\n",
    "#    split = pd.get_dummies(data[s])\n",
    "#    # Neue Spaltennamen: 'column_name = category'\n",
    "#    column_names = [\"%s=%s\"%(s,x) for x in split.columns]\n",
    "#    # Neue Spaltennamen den Spalten zuordnen\n",
    "#    split.columns = column_names\n",
    "#    # Neue Spalten dem ursprünglichen Dataframe hinzufügen\n",
    "#    data_clean[column_names] = split\n",
    "#\n",
    "## Originalattribute löschen\n",
    "#for s in to_split:\n",
    "#    data_clean.drop(s, axis=1, inplace=True)\n",
    "#\n",
    "#data_clean.head()"
   ]
  },
  {
   "cell_type": "code",
   "execution_count": 13,
   "metadata": {
    "ExecuteTime": {
     "end_time": "2019-03-19T08:29:11.159467Z",
     "start_time": "2019-03-19T08:29:11.135466Z"
    }
   },
   "outputs": [
    {
     "data": {
      "text/html": [
       "<div>\n",
       "<style scoped>\n",
       "    .dataframe tbody tr th:only-of-type {\n",
       "        vertical-align: middle;\n",
       "    }\n",
       "\n",
       "    .dataframe tbody tr th {\n",
       "        vertical-align: top;\n",
       "    }\n",
       "\n",
       "    .dataframe thead th {\n",
       "        text-align: right;\n",
       "    }\n",
       "</style>\n",
       "<table border=\"1\" class=\"dataframe\">\n",
       "  <thead>\n",
       "    <tr style=\"text-align: right;\">\n",
       "      <th></th>\n",
       "      <th>Alter</th>\n",
       "      <th>Größe (cm)</th>\n",
       "      <th>Brustumfang (cm)</th>\n",
       "      <th>Taillenumfang (cm)</th>\n",
       "      <th>Hüftumfang (cm)</th>\n",
       "      <th>HB</th>\n",
       "      <th>TB</th>\n",
       "      <th>TH</th>\n",
       "      <th>GM</th>\n",
       "      <th>Lebenszeit</th>\n",
       "      <th>Lebenszeit (skaliert)</th>\n",
       "    </tr>\n",
       "  </thead>\n",
       "  <tbody>\n",
       "    <tr>\n",
       "      <th>0</th>\n",
       "      <td>17</td>\n",
       "      <td>178.00</td>\n",
       "      <td>90.00</td>\n",
       "      <td>62.00</td>\n",
       "      <td>90.00</td>\n",
       "      <td>1.00</td>\n",
       "      <td>0.69</td>\n",
       "      <td>0.69</td>\n",
       "      <td>79.49</td>\n",
       "      <td>12.00</td>\n",
       "      <td>1.00</td>\n",
       "    </tr>\n",
       "    <tr>\n",
       "      <th>1</th>\n",
       "      <td>20</td>\n",
       "      <td>173.00</td>\n",
       "      <td>85.00</td>\n",
       "      <td>59.00</td>\n",
       "      <td>89.00</td>\n",
       "      <td>1.05</td>\n",
       "      <td>0.69</td>\n",
       "      <td>0.66</td>\n",
       "      <td>76.42</td>\n",
       "      <td>9.00</td>\n",
       "      <td>0.75</td>\n",
       "    </tr>\n",
       "    <tr>\n",
       "      <th>2</th>\n",
       "      <td>20</td>\n",
       "      <td>180.00</td>\n",
       "      <td>83.00</td>\n",
       "      <td>61.00</td>\n",
       "      <td>89.00</td>\n",
       "      <td>1.07</td>\n",
       "      <td>0.73</td>\n",
       "      <td>0.69</td>\n",
       "      <td>76.67</td>\n",
       "      <td>8.00</td>\n",
       "      <td>0.67</td>\n",
       "    </tr>\n",
       "    <tr>\n",
       "      <th>3</th>\n",
       "      <td>18</td>\n",
       "      <td>183.00</td>\n",
       "      <td>88.00</td>\n",
       "      <td>64.00</td>\n",
       "      <td>80.00</td>\n",
       "      <td>0.91</td>\n",
       "      <td>0.73</td>\n",
       "      <td>0.80</td>\n",
       "      <td>76.66</td>\n",
       "      <td>8.00</td>\n",
       "      <td>0.67</td>\n",
       "    </tr>\n",
       "    <tr>\n",
       "      <th>4</th>\n",
       "      <td>16</td>\n",
       "      <td>175.00</td>\n",
       "      <td>86.00</td>\n",
       "      <td>66.00</td>\n",
       "      <td>85.00</td>\n",
       "      <td>0.99</td>\n",
       "      <td>0.77</td>\n",
       "      <td>0.78</td>\n",
       "      <td>78.43</td>\n",
       "      <td>6.00</td>\n",
       "      <td>0.50</td>\n",
       "    </tr>\n",
       "  </tbody>\n",
       "</table>\n",
       "</div>"
      ],
      "text/plain": [
       "   Alter  Größe (cm)  Brustumfang (cm)  Taillenumfang (cm)  Hüftumfang (cm)  \\\n",
       "0     17      178.00             90.00               62.00            90.00   \n",
       "1     20      173.00             85.00               59.00            89.00   \n",
       "2     20      180.00             83.00               61.00            89.00   \n",
       "3     18      183.00             88.00               64.00            80.00   \n",
       "4     16      175.00             86.00               66.00            85.00   \n",
       "\n",
       "    HB   TB   TH    GM  Lebenszeit  Lebenszeit (skaliert)  \n",
       "0 1.00 0.69 0.69 79.49       12.00                   1.00  \n",
       "1 1.05 0.69 0.66 76.42        9.00                   0.75  \n",
       "2 1.07 0.73 0.69 76.67        8.00                   0.67  \n",
       "3 0.91 0.73 0.80 76.66        8.00                   0.67  \n",
       "4 0.99 0.77 0.78 78.43        6.00                   0.50  "
      ]
     },
     "execution_count": 13,
     "metadata": {},
     "output_type": "execute_result"
    }
   ],
   "source": [
    "# Nur numerische Einträge verwenden\n",
    "data_num = data_clean._get_numeric_data()\n",
    "data_num.head()"
   ]
  },
  {
   "cell_type": "code",
   "execution_count": 14,
   "metadata": {
    "ExecuteTime": {
     "end_time": "2019-03-19T08:29:11.207468Z",
     "start_time": "2019-03-19T08:29:11.162466Z"
    }
   },
   "outputs": [],
   "source": [
    "# Train/Test Split erstellen\n",
    "from sklearn.model_selection import train_test_split\n",
    "attributes = [c for c in data_num.columns if 'Lebenszeit' not in c]\n",
    "target = 'Lebenszeit (skaliert)'\n",
    "X_train, X_test = train_test_split(data_num, train_size=.75, test_size=.25, random_state=23)\n",
    "\n",
    "y_train = X_train[target]\n",
    "y_test = X_test[target]\n",
    "\n",
    "X_train = X_train[attributes]\n",
    "X_test = X_test[attributes]"
   ]
  },
  {
   "cell_type": "markdown",
   "metadata": {},
   "source": [
    "# Regressionsmodelle als Baseline"
   ]
  },
  {
   "cell_type": "code",
   "execution_count": 15,
   "metadata": {
    "ExecuteTime": {
     "end_time": "2019-03-19T08:29:11.224475Z",
     "start_time": "2019-03-19T08:29:11.210467Z"
    }
   },
   "outputs": [],
   "source": [
    "def plot_true_v_pred(model, X_train, X_test, y_train, y_test, label=None, title=None):             \n",
    "    \"\"\"Produces a scatter plot where the true values are given on the x-axis and the predicted\n",
    "values are on the y-axis.                                                                     \n",
    "                                                                                              \n",
    "        Args:                                                                                 \n",
    "            model:              sklearn model used to predict values                          \n",
    "            X_train:            pandas.Dataframe with features used for training              \n",
    "            X_test:             pandas.Dataframe with features used for testing               \n",
    "            y_train:            pandas.DataFrame or Series with labels used for training      \n",
    "            y_test:             pandas.DataFrame or Series with labels used for testing       \n",
    "            label:              Name of the label                                             \n",
    "            title:              Optional title for the plot                                   \n",
    "                                                                                              \n",
    "    \"\"\"                                                                                       \n",
    "    fig, ax = plt.subplots(figsize=(9,6))                                                     \n",
    "    ax.scatter(y_train,model.predict(X_train), s=50, label='Training Data')            \n",
    "    ax.scatter(y_test,model.predict(X_test), s=50, label='Test Data')                  \n",
    "    if label != None:\n",
    "        ax.set_xlabel('True values for {}'.format(label)) \n",
    "        ax.set_ylabel('Predicted values for {}'.format(label))                                    \n",
    "    if title != None:                                                                         \n",
    "        ax.set_title(title)                                                                   \n",
    "    ax.legend()                                                                               \n",
    "    fig.show()                                                                                "
   ]
  },
  {
   "cell_type": "code",
   "execution_count": 16,
   "metadata": {
    "ExecuteTime": {
     "end_time": "2019-03-19T08:29:11.237465Z",
     "start_time": "2019-03-19T08:29:11.228465Z"
    }
   },
   "outputs": [],
   "source": [
    "from sklearn.metrics import regression as re"
   ]
  },
  {
   "cell_type": "markdown",
   "metadata": {},
   "source": [
    "## Lineare Regression"
   ]
  },
  {
   "cell_type": "code",
   "execution_count": 17,
   "metadata": {
    "ExecuteTime": {
     "end_time": "2019-03-19T08:29:11.320464Z",
     "start_time": "2019-03-19T08:29:11.239467Z"
    }
   },
   "outputs": [
    {
     "data": {
      "text/plain": [
       "LinearRegression(copy_X=True, fit_intercept=True, n_jobs=-1, normalize=False)"
      ]
     },
     "execution_count": 17,
     "metadata": {},
     "output_type": "execute_result"
    }
   ],
   "source": [
    "# Model via linear regression\n",
    "from sklearn.linear_model import LinearRegression\n",
    "from sklearn.model_selection import GridSearchCV\n",
    "parameters = {'normalize': [True,False]}\n",
    "lr = LinearRegression(n_jobs=-1)\n",
    "lr.fit(X_train, y_train)"
   ]
  },
  {
   "cell_type": "code",
   "execution_count": 18,
   "metadata": {
    "ExecuteTime": {
     "end_time": "2019-03-19T08:29:11.592464Z",
     "start_time": "2019-03-19T08:29:11.338465Z"
    }
   },
   "outputs": [
    {
     "data": {
      "image/png": "[encoded data removed]",
      "text/plain": [
       "<Figure size 648x432 with 1 Axes>"
      ]
     },
     "metadata": {
      "needs_background": "light"
     },
     "output_type": "display_data"
    }
   ],
   "source": [
    "plot_true_v_pred(lr, X_train, X_test, y_train, y_test, 'Lebenszeit (skaliert)');"
   ]
  },
  {
   "cell_type": "markdown",
   "metadata": {},
   "source": [
    "## Lasso Regression"
   ]
  },
  {
   "cell_type": "code",
   "execution_count": 19,
   "metadata": {
    "ExecuteTime": {
     "end_time": "2019-03-19T08:29:11.862460Z",
     "start_time": "2019-03-19T08:29:11.601465Z"
    }
   },
   "outputs": [],
   "source": [
    "# Lasso Regression\n",
    "from sklearn.linear_model import Lasso\n",
    "\n",
    "parameters = {'alpha':np.logspace(-5,0,6)}\n",
    "\n",
    "model = Lasso(max_iter=5000)\n",
    "models = GridSearchCV(model, parameters, cv=5, refit=True)\n",
    "models.fit(X_train, y_train)\n",
    "lasso = models.best_estimator_"
   ]
  },
  {
   "cell_type": "code",
   "execution_count": 20,
   "metadata": {
    "ExecuteTime": {
     "end_time": "2019-03-19T08:29:12.087495Z",
     "start_time": "2019-03-19T08:29:11.864463Z"
    }
   },
   "outputs": [
    {
     "data": {
      "image/png": "[encoded data removed]",
      "text/plain": [
       "<Figure size 648x432 with 1 Axes>"
      ]
     },
     "metadata": {
      "needs_background": "light"
     },
     "output_type": "display_data"
    }
   ],
   "source": [
    "plot_true_v_pred(lasso, X_train, X_test, y_train, y_test, 'Lebenszeit (skaliert)');"
   ]
  },
  {
   "cell_type": "markdown",
   "metadata": {},
   "source": [
    "## Ridge Regression"
   ]
  },
  {
   "cell_type": "code",
   "execution_count": 21,
   "metadata": {
    "ExecuteTime": {
     "end_time": "2019-03-19T08:29:12.335608Z",
     "start_time": "2019-03-19T08:29:12.090462Z"
    }
   },
   "outputs": [],
   "source": [
    "from sklearn.linear_model import Ridge\n",
    "parameters = {'alpha':np.logspace(-6,6,13)}\n",
    "\n",
    "model = Ridge()\n",
    "\n",
    "models = GridSearchCV(model, parameters, cv=5, refit=True)\n",
    "models.fit(X_train, y_train)\n",
    "ridge = models.best_estimator_"
   ]
  },
  {
   "cell_type": "code",
   "execution_count": 22,
   "metadata": {
    "ExecuteTime": {
     "end_time": "2019-03-19T08:29:12.512456Z",
     "start_time": "2019-03-19T08:29:12.337459Z"
    }
   },
   "outputs": [
    {
     "data": {
      "image/png": "[encoded data removed]",
      "text/plain": [
       "<Figure size 648x432 with 1 Axes>"
      ]
     },
     "metadata": {
      "needs_background": "light"
     },
     "output_type": "display_data"
    }
   ],
   "source": [
    "plot_true_v_pred(ridge, X_train, X_test, y_train, y_test, 'Lebenszeit (skaliert)');"
   ]
  },
  {
   "cell_type": "code",
   "execution_count": 40,
   "metadata": {
    "ExecuteTime": {
     "end_time": "2019-03-19T12:28:05.180984Z",
     "start_time": "2019-03-19T12:28:05.006987Z"
    }
   },
   "outputs": [
    {
     "data": {
      "application/vnd.jupyter.widget-view+json": {
       "model_id": "618b0b711840472ca1fb7fb838074338",
       "version_major": 2,
       "version_minor": 0
      },
      "text/plain": [
       "interactive(children=(Dropdown(description='model', options={'Linear model': LinearRegression(copy_X=True, fit…"
      ]
     },
     "metadata": {},
     "output_type": "display_data"
    }
   ],
   "source": [
    "from collections import Counter\n",
    "def plot_weights(model):\n",
    "    values = model.coef_.flatten()\n",
    "    names = X_train.columns.tolist()\n",
    "\n",
    "    fig, ax = plt.subplots(figsize=(8,2))\n",
    "    ax.bar(range(len(values)), values, align='center', color='k', alpha=0.3)\n",
    "    plt.xticks(range(len(values)), names, rotation=90)\n",
    "    ax.set_xlim([-1, len(values)])\n",
    "    ax.set_ylabel('Weight')\n",
    "\n",
    "    # beautyfy the plot\n",
    "    ax.spines[\"top\"].set_visible(False)\n",
    "    ax.spines[\"right\"].set_visible(False)\n",
    "    ax.xaxis.set_ticks_position('bottom')\n",
    "    ax.yaxis.set_ticks_position('left')\n",
    "\n",
    "    plt.show()\n",
    "\n",
    "i4 = interact(plot_weights, model={'Linear model':lr, 'Ridge':ridge, 'Lasso':lasso})"
   ]
  },
  {
   "cell_type": "markdown",
   "metadata": {},
   "source": [
    "## Entscheidungsbäume"
   ]
  },
  {
   "cell_type": "code",
   "execution_count": 24,
   "metadata": {
    "ExecuteTime": {
     "end_time": "2019-03-19T08:29:13.941449Z",
     "start_time": "2019-03-19T08:29:12.738464Z"
    }
   },
   "outputs": [],
   "source": [
    "# Model via regression tree\n",
    "from sklearn.tree import DecisionTreeRegressor\n",
    "from sklearn.model_selection import GridSearchCV\n",
    "parameters = {'criterion': ['mse','friedman_mse', 'mae'], \n",
    "              'max_depth': np.linspace(1,5,5), \n",
    "              'min_samples_leaf': [5,10,15,20,25]}\n",
    "rt = DecisionTreeRegressor()\n",
    "regs = GridSearchCV(rt, parameters, cv=5)\n",
    "regs.fit(X_train, y_train)\n",
    "rt_cv = regs.best_estimator_"
   ]
  },
  {
   "cell_type": "code",
   "execution_count": 25,
   "metadata": {
    "ExecuteTime": {
     "end_time": "2019-03-19T08:29:14.129449Z",
     "start_time": "2019-03-19T08:29:13.942449Z"
    }
   },
   "outputs": [
    {
     "data": {
      "image/png": "[encoded data removed]",
      "text/plain": [
       "<Figure size 648x432 with 1 Axes>"
      ]
     },
     "metadata": {
      "needs_background": "light"
     },
     "output_type": "display_data"
    }
   ],
   "source": [
    "plot_true_v_pred(rt_cv, X_train, X_test, y_train, y_test, 'Lebenszeit (skaliert)');"
   ]
  },
  {
   "cell_type": "code",
   "execution_count": 35,
   "metadata": {
    "ExecuteTime": {
     "end_time": "2019-03-19T12:25:47.513471Z",
     "start_time": "2019-03-19T12:25:47.444472Z"
    }
   },
   "outputs": [
    {
     "data": {
      "image/svg+xml": [
       "<svg height=\"278pt\" viewBox=\"0.00 0.00 495.00 278.00\" width=\"495pt\" xmlns=\"http://www.w3.org/2000/svg\" xmlns:xlink=\"http://www.w3.org/1999/xlink\">\n",
       "<g class=\"graph\" id=\"graph0\" transform=\"scale(1 1) rotate(0) translate(4 274)\">\n",
       "<title>Tree</title>\n",
       "<polygon fill=\"white\" points=\"-4,4 -4,-274 491,-274 491,4 -4,4\" stroke=\"none\"/>\n",
       "<!-- 0 -->\n",
       "<g class=\"node\" id=\"node1\"><title>0</title>\n",
       "<path d=\"M124,-170.5C124,-170.5 12,-170.5 12,-170.5 6,-170.5 0,-164.5 0,-158.5 0,-158.5 0,-114.5 0,-114.5 0,-108.5 6,-102.5 12,-102.5 12,-102.5 124,-102.5 124,-102.5 130,-102.5 136,-108.5 136,-114.5 136,-114.5 136,-158.5 136,-158.5 136,-164.5 130,-170.5 124,-170.5\" fill=\"#e58139\" fill-opacity=\"0.509804\" stroke=\"black\"/>\n",
       "<text font-family=\"Helvetica,sans-Serif\" font-size=\"14.00\" text-anchor=\"middle\" x=\"68\" y=\"-155.3\">GM &lt;= 78.11</text>\n",
       "<text font-family=\"Helvetica,sans-Serif\" font-size=\"14.00\" text-anchor=\"middle\" x=\"68\" y=\"-140.3\">mse = 0.079</text>\n",
       "<text font-family=\"Helvetica,sans-Serif\" font-size=\"14.00\" text-anchor=\"middle\" x=\"68\" y=\"-125.3\">samples = 100.0%</text>\n",
       "<text font-family=\"Helvetica,sans-Serif\" font-size=\"14.00\" text-anchor=\"middle\" x=\"68\" y=\"-110.3\">value = 0.6</text>\n",
       "</g>\n",
       "<!-- 1 -->\n",
       "<g class=\"node\" id=\"node2\"><title>1</title>\n",
       "<path d=\"M299.5,-213.5C299.5,-213.5 195.5,-213.5 195.5,-213.5 189.5,-213.5 183.5,-207.5 183.5,-201.5 183.5,-201.5 183.5,-157.5 183.5,-157.5 183.5,-151.5 189.5,-145.5 195.5,-145.5 195.5,-145.5 299.5,-145.5 299.5,-145.5 305.5,-145.5 311.5,-151.5 311.5,-157.5 311.5,-157.5 311.5,-201.5 311.5,-201.5 311.5,-207.5 305.5,-213.5 299.5,-213.5\" fill=\"#e58139\" fill-opacity=\"0.784314\" stroke=\"black\"/>\n",
       "<text font-family=\"Helvetica,sans-Serif\" font-size=\"14.00\" text-anchor=\"middle\" x=\"247.5\" y=\"-198.3\">TH &lt;= 0.668</text>\n",
       "<text font-family=\"Helvetica,sans-Serif\" font-size=\"14.00\" text-anchor=\"middle\" x=\"247.5\" y=\"-183.3\">mse = 0.055</text>\n",
       "<text font-family=\"Helvetica,sans-Serif\" font-size=\"14.00\" text-anchor=\"middle\" x=\"247.5\" y=\"-168.3\">samples = 47.5%</text>\n",
       "<text font-family=\"Helvetica,sans-Serif\" font-size=\"14.00\" text-anchor=\"middle\" x=\"247.5\" y=\"-153.3\">value = 0.706</text>\n",
       "</g>\n",
       "<!-- 0&#45;&gt;1 -->\n",
       "<g class=\"edge\" id=\"edge1\"><title>0-&gt;1</title>\n",
       "<path d=\"M136.105,-152.756C148.345,-155.722 161.169,-158.828 173.568,-161.832\" fill=\"none\" stroke=\"black\"/>\n",
       "<polygon fill=\"black\" points=\"172.858,-165.261 183.401,-164.214 174.506,-158.458 172.858,-165.261\" stroke=\"black\"/>\n",
       "<text font-family=\"Helvetica,sans-Serif\" font-size=\"14.00\" text-anchor=\"middle\" x=\"162.058\" y=\"-173.533\">True</text>\n",
       "</g>\n",
       "<!-- 4 -->\n",
       "<g class=\"node\" id=\"node5\"><title>4</title>\n",
       "<path d=\"M311,-127.5C311,-127.5 184,-127.5 184,-127.5 178,-127.5 172,-121.5 172,-115.5 172,-115.5 172,-71.5 172,-71.5 172,-65.5 178,-59.5 184,-59.5 184,-59.5 311,-59.5 311,-59.5 317,-59.5 323,-65.5 323,-71.5 323,-71.5 323,-115.5 323,-115.5 323,-121.5 317,-127.5 311,-127.5\" fill=\"#e58139\" fill-opacity=\"0.266667\" stroke=\"black\"/>\n",
       "<text font-family=\"Helvetica,sans-Serif\" font-size=\"14.00\" text-anchor=\"middle\" x=\"247.5\" y=\"-112.3\">Größe (cm) &lt;= 177.5</text>\n",
       "<text font-family=\"Helvetica,sans-Serif\" font-size=\"14.00\" text-anchor=\"middle\" x=\"247.5\" y=\"-97.3\">mse = 0.081</text>\n",
       "<text font-family=\"Helvetica,sans-Serif\" font-size=\"14.00\" text-anchor=\"middle\" x=\"247.5\" y=\"-82.3\">samples = 52.5%</text>\n",
       "<text font-family=\"Helvetica,sans-Serif\" font-size=\"14.00\" text-anchor=\"middle\" x=\"247.5\" y=\"-67.3\">value = 0.503</text>\n",
       "</g>\n",
       "<!-- 0&#45;&gt;4 -->\n",
       "<g class=\"edge\" id=\"edge4\"><title>0-&gt;4</title>\n",
       "<path d=\"M136.105,-120.244C144.593,-118.187 153.363,-116.063 162.077,-113.952\" fill=\"none\" stroke=\"black\"/>\n",
       "<polygon fill=\"black\" points=\"162.978,-117.335 171.873,-111.579 161.33,-110.532 162.978,-117.335\" stroke=\"black\"/>\n",
       "<text font-family=\"Helvetica,sans-Serif\" font-size=\"14.00\" text-anchor=\"middle\" x=\"150.53\" y=\"-94.86\">False</text>\n",
       "</g>\n",
       "<!-- 2 -->\n",
       "<g class=\"node\" id=\"node3\"><title>2</title>\n",
       "<path d=\"M475,-270C475,-270 371,-270 371,-270 365,-270 359,-264 359,-258 359,-258 359,-229 359,-229 359,-223 365,-217 371,-217 371,-217 475,-217 475,-217 481,-217 487,-223 487,-229 487,-229 487,-258 487,-258 487,-264 481,-270 475,-270\" fill=\"#e58139\" stroke=\"black\"/>\n",
       "<text font-family=\"Helvetica,sans-Serif\" font-size=\"14.00\" text-anchor=\"middle\" x=\"423\" y=\"-254.8\">mse = 0.03</text>\n",
       "<text font-family=\"Helvetica,sans-Serif\" font-size=\"14.00\" text-anchor=\"middle\" x=\"423\" y=\"-239.8\">samples = 17.2%</text>\n",
       "<text font-family=\"Helvetica,sans-Serif\" font-size=\"14.00\" text-anchor=\"middle\" x=\"423\" y=\"-224.8\">value = 0.792</text>\n",
       "</g>\n",
       "<!-- 1&#45;&gt;2 -->\n",
       "<g class=\"edge\" id=\"edge2\"><title>1-&gt;2</title>\n",
       "<path d=\"M311.628,-202.787C323.905,-207.315 336.864,-212.095 349.417,-216.726\" fill=\"none\" stroke=\"black\"/>\n",
       "<polygon fill=\"black\" points=\"348.325,-220.054 358.919,-220.231 350.748,-213.486 348.325,-220.054\" stroke=\"black\"/>\n",
       "</g>\n",
       "<!-- 3 -->\n",
       "<g class=\"node\" id=\"node4\"><title>3</title>\n",
       "<path d=\"M475,-199C475,-199 371,-199 371,-199 365,-199 359,-193 359,-187 359,-187 359,-158 359,-158 359,-152 365,-146 371,-146 371,-146 475,-146 475,-146 481,-146 487,-152 487,-158 487,-158 487,-187 487,-187 487,-193 481,-199 475,-199\" fill=\"#e58139\" fill-opacity=\"0.658824\" stroke=\"black\"/>\n",
       "<text font-family=\"Helvetica,sans-Serif\" font-size=\"14.00\" text-anchor=\"middle\" x=\"423\" y=\"-183.8\">mse = 0.063</text>\n",
       "<text font-family=\"Helvetica,sans-Serif\" font-size=\"14.00\" text-anchor=\"middle\" x=\"423\" y=\"-168.8\">samples = 30.3%</text>\n",
       "<text font-family=\"Helvetica,sans-Serif\" font-size=\"14.00\" text-anchor=\"middle\" x=\"423\" y=\"-153.8\">value = 0.658</text>\n",
       "</g>\n",
       "<!-- 1&#45;&gt;3 -->\n",
       "<g class=\"edge\" id=\"edge3\"><title>1-&gt;3</title>\n",
       "<path d=\"M311.628,-176.953C323.664,-176.467 336.356,-175.955 348.678,-175.458\" fill=\"none\" stroke=\"black\"/>\n",
       "<polygon fill=\"black\" points=\"349.068,-178.945 358.919,-175.045 348.786,-171.951 349.068,-178.945\" stroke=\"black\"/>\n",
       "</g>\n",
       "<!-- 5 -->\n",
       "<g class=\"node\" id=\"node6\"><title>5</title>\n",
       "<path d=\"M475,-124C475,-124 371,-124 371,-124 365,-124 359,-118 359,-112 359,-112 359,-83 359,-83 359,-77 365,-71 371,-71 371,-71 475,-71 475,-71 481,-71 487,-77 487,-83 487,-83 487,-112 487,-112 487,-118 481,-124 475,-124\" fill=\"none\" stroke=\"black\"/>\n",
       "<text font-family=\"Helvetica,sans-Serif\" font-size=\"14.00\" text-anchor=\"middle\" x=\"423\" y=\"-108.8\">mse = 0.043</text>\n",
       "<text font-family=\"Helvetica,sans-Serif\" font-size=\"14.00\" text-anchor=\"middle\" x=\"423\" y=\"-93.8\">samples = 22.2%</text>\n",
       "<text font-family=\"Helvetica,sans-Serif\" font-size=\"14.00\" text-anchor=\"middle\" x=\"423\" y=\"-78.8\">value = 0.399</text>\n",
       "</g>\n",
       "<!-- 4&#45;&gt;5 -->\n",
       "<g class=\"edge\" id=\"edge5\"><title>4-&gt;5</title>\n",
       "<path d=\"M323.087,-95.2196C331.575,-95.4153 340.222,-95.6146 348.694,-95.8099\" fill=\"none\" stroke=\"black\"/>\n",
       "<polygon fill=\"black\" points=\"348.84,-99.3141 358.918,-96.0457 349.001,-92.316 348.84,-99.3141\" stroke=\"black\"/>\n",
       "</g>\n",
       "<!-- 6 -->\n",
       "<g class=\"node\" id=\"node7\"><title>6</title>\n",
       "<path d=\"M475,-53C475,-53 371,-53 371,-53 365,-53 359,-47 359,-41 359,-41 359,-12 359,-12 359,-6 365,-0 371,-0 371,-0 475,-0 475,-0 481,-0 487,-6 487,-12 487,-12 487,-41 487,-41 487,-47 481,-53 475,-53\" fill=\"#e58139\" fill-opacity=\"0.462745\" stroke=\"black\"/>\n",
       "<text font-family=\"Helvetica,sans-Serif\" font-size=\"14.00\" text-anchor=\"middle\" x=\"423\" y=\"-37.8\">mse = 0.095</text>\n",
       "<text font-family=\"Helvetica,sans-Serif\" font-size=\"14.00\" text-anchor=\"middle\" x=\"423\" y=\"-22.8\">samples = 30.3%</text>\n",
       "<text font-family=\"Helvetica,sans-Serif\" font-size=\"14.00\" text-anchor=\"middle\" x=\"423\" y=\"-7.8\">value = 0.58</text>\n",
       "</g>\n",
       "<!-- 4&#45;&gt;6 -->\n",
       "<g class=\"edge\" id=\"edge6\"><title>4-&gt;6</title>\n",
       "<path d=\"M323.087,-64.6971C331.855,-61.3111 340.792,-57.8598 349.531,-54.4852\" fill=\"none\" stroke=\"black\"/>\n",
       "<polygon fill=\"black\" points=\"350.85,-57.7278 358.918,-50.8603 348.328,-51.1977 350.85,-57.7278\" stroke=\"black\"/>\n",
       "</g>\n",
       "</g>\n",
       "</svg>"
      ],
      "text/plain": [
       "<IPython.core.display.SVG object>"
      ]
     },
     "execution_count": 35,
     "metadata": {},
     "output_type": "execute_result"
    }
   ],
   "source": [
    "# display the tree\n",
    "from IPython.display import SVG\n",
    "from graphviz import Source\n",
    "from sklearn import tree\n",
    "graph = Source(tree.export_graphviz(rt_cv, out_file=None, \n",
    "                                    feature_names=attributes, \n",
    "                                    filled=True, \n",
    "                                    rounded=True, \n",
    "                                    rotate=True,\n",
    "                                    impurity=True,\n",
    "                                    proportion=True\n",
    "                                   ))\n",
    "SVG(graph.pipe(format='svg'))"
   ]
  },
  {
   "cell_type": "markdown",
   "metadata": {},
   "source": [
    "## Random Forests"
   ]
  },
  {
   "cell_type": "code",
   "execution_count": 43,
   "metadata": {
    "ExecuteTime": {
     "end_time": "2019-03-19T12:29:48.565718Z",
     "start_time": "2019-03-19T12:29:45.436473Z"
    }
   },
   "outputs": [],
   "source": [
    "# Model via a Random Forest\n",
    "from sklearn.ensemble import RandomForestRegressor\n",
    "parameters = {'criterion': ['mse','friedman_mse', 'mae'], \n",
    "              'max_depth': np.linspace(1,5,5), \n",
    "              'min_samples_leaf': [5,10,15,20,25]}\n",
    "model = RandomForestRegressor()\n",
    "regs = GridSearchCV(model, parameters, cv=5)\n",
    "regs.fit(X_train, y_train)\n",
    "rf_cv = regs.best_estimator_"
   ]
  },
  {
   "cell_type": "code",
   "execution_count": 44,
   "metadata": {
    "ExecuteTime": {
     "end_time": "2019-03-19T12:30:06.907582Z",
     "start_time": "2019-03-19T12:30:06.723549Z"
    }
   },
   "outputs": [
    {
     "data": {
      "image/png": "[encoded data removed]",
      "text/plain": [
       "<Figure size 648x432 with 1 Axes>"
      ]
     },
     "metadata": {
      "needs_background": "light"
     },
     "output_type": "display_data"
    }
   ],
   "source": [
    "plot_true_v_pred(rf_cv, X_train, X_test, y_train, y_test, 'Lebenszeit (skaliert)');"
   ]
  },
  {
   "cell_type": "markdown",
   "metadata": {},
   "source": [
    "## Support Vector Regression"
   ]
  },
  {
   "cell_type": "code",
   "execution_count": 46,
   "metadata": {
    "ExecuteTime": {
     "end_time": "2019-03-19T12:31:20.185739Z",
     "start_time": "2019-03-19T12:31:19.666668Z"
    }
   },
   "outputs": [],
   "source": [
    "# Model via support vector machine\n",
    "from sklearn.svm import SVR\n",
    "from sklearn.model_selection import GridSearchCV\n",
    "parameters = {'kernel':['rbf'], \n",
    "              'C':10.0**np.arange(-4, 4), \n",
    "              'epsilon':[0.1, 0.2]}\n",
    "model = SVR()\n",
    "regs = GridSearchCV(model, parameters, cv=10)\n",
    "regs.fit(X_train, y_train)\n",
    "svr = regs.best_estimator_"
   ]
  },
  {
   "cell_type": "code",
   "execution_count": 47,
   "metadata": {
    "ExecuteTime": {
     "end_time": "2019-03-19T12:33:43.642292Z",
     "start_time": "2019-03-19T12:33:43.462294Z"
    }
   },
   "outputs": [
    {
     "data": {
      "image/png": "[encoded data removed]",
      "text/plain": [
       "<Figure size 648x432 with 1 Axes>"
      ]
     },
     "metadata": {
      "needs_background": "light"
     },
     "output_type": "display_data"
    }
   ],
   "source": [
    "plot_true_v_pred(svr, X_train, X_test, y_train, y_test, 'Lebenszeit (skaliert)');"
   ]
  },
  {
   "cell_type": "code",
   "execution_count": 49,
   "metadata": {
    "ExecuteTime": {
     "end_time": "2019-03-19T12:34:42.599013Z",
     "start_time": "2019-03-19T12:34:42.582014Z"
    }
   },
   "outputs": [
    {
     "name": "stdout",
     "output_type": "stream",
     "text": [
      "Lineare Regression       : -0.29733080295880243\n",
      "Lasso Regression         : -0.21189617764694524\n",
      "Ridge Regression         : -0.21637244536538325\n",
      "Regression Tree          : 0.02106143921333037\n",
      "Random Forest            : -0.2010728986344137\n",
      "Support Vector Regression: -0.1884158957577302\n"
     ]
    }
   ],
   "source": [
    "# Evaluation der Regressionsmodelle:\n",
    "print('Lineare Regression       : {}'.format(re.r2_score(y_pred=lr.predict(X_test), y_true=y_test)))\n",
    "print('Lasso Regression         : {}'.format(re.r2_score(y_pred=lasso.predict(X_test), y_true=y_test)))\n",
    "print('Ridge Regression         : {}'.format(re.r2_score(y_pred=ridge.predict(X_test), y_true=y_test)))\n",
    "print('Regression Tree          : {}'.format(re.r2_score(y_pred=rt_cv.predict(X_test), y_true=y_test)))\n",
    "print('Random Forest            : {}'.format(re.r2_score(y_pred=rf_cv.predict(X_test), y_true=y_test)))\n",
    "print('Support Vector Regression: {}'.format(re.r2_score(y_pred=svr.predict(X_test), y_true=y_test)))"
   ]
  },
  {
   "cell_type": "markdown",
   "metadata": {},
   "source": [
    "# Survival-Modelle"
   ]
  },
  {
   "cell_type": "code",
   "execution_count": 53,
   "metadata": {
    "ExecuteTime": {
     "end_time": "2019-03-19T13:18:02.122281Z",
     "start_time": "2019-03-19T13:18:02.024279Z"
    }
   },
   "outputs": [
    {
     "name": "stdout",
     "output_type": "stream",
     "text": [
      "<lifelines.CoxPHFitter: fitted with 99 observations, 0 censored>\n",
      "      duration col = 'Lebenszeit (skaliert)'\n",
      "number of subjects = 99\n",
      "  number of events = 99\n",
      "    log-likelihood = -296.61\n",
      "  time fit was run = 2019-03-19 13:18:02 UTC\n",
      "\n",
      "---\n",
      "                      coef                                          exp(coef)  se(coef)     z      p  -log2(p)  lower 0.95  upper 0.95\n",
      "Alter                 0.12                                               1.13      0.05  2.30   0.02      5.53        0.02        0.23\n",
      "Größe (cm)           -0.01                                               0.99      0.04 -0.28   0.78      0.36       -0.09        0.07\n",
      "Brustumfang (cm)     -2.41                                               0.09      1.13 -2.12   0.03      4.90       -4.63       -0.19\n",
      "Taillenumfang (cm)   -0.85                                               0.43      2.88 -0.30   0.77      0.38       -6.49        4.79\n",
      "Hüftumfang (cm)      -3.04                                               0.05      1.59 -1.91   0.06      4.17       -6.15        0.07\n",
      "HB                  141.88 41503647410603868909569016299529019297832866652...     41.57  3.41 <0.005     10.60       60.40      223.36\n",
      "TB                 -231.91                                               0.00     86.37 -2.69   0.01      7.11     -401.19      -62.62\n",
      "TH                   82.06            436147228314827270769469085378936832.00     87.50  0.94   0.35      1.52      -89.43      253.56\n",
      "GM                    6.79                                             887.91      4.79  1.42   0.16      2.68       -2.59       16.17\n",
      "Lebenszeit           -0.26                                               0.77      0.03 -8.42 <0.005     54.52       -0.32       -0.20\n",
      "---\n",
      "Concordance = 0.88\n",
      "Log-likelihood ratio test = 125.04 on 10 df, -log2(p)=70.82\n"
     ]
    }
   ],
   "source": [
    "from lifelines import CoxPHFitter\n",
    "\n",
    "# Train/Test Split erstellen\n",
    "from sklearn.model_selection import train_test_split\n",
    "attributes = [c for c in data_num.columns if 'Lebenszeit' not in c]\n",
    "target = 'Lebenszeit (skaliert)'\n",
    "X_train, X_test = train_test_split(data_num, train_size=.75, test_size=.25, random_state=23)\n",
    "\n",
    "cph = CoxPHFitter()\n",
    "cph.fit(X_train, duration_col='Lebenszeit (skaliert)')\n",
    "\n",
    "cph.print_summary()"
   ]
  },
  {
   "cell_type": "code",
   "execution_count": 62,
   "metadata": {
    "ExecuteTime": {
     "end_time": "2019-03-19T13:33:56.708115Z",
     "start_time": "2019-03-19T13:33:56.450119Z"
    }
   },
   "outputs": [
    {
     "data": {
      "text/plain": [
       "<matplotlib.axes._subplots.AxesSubplot at 0x24738a7d5f8>"
      ]
     },
     "execution_count": 62,
     "metadata": {},
     "output_type": "execute_result"
    },
    {
     "data": {
      "image/png": "[encoded data removed]",
      "text/plain": [
       "<Figure size 432x288 with 1 Axes>"
      ]
     },
     "metadata": {
      "needs_background": "light"
     },
     "output_type": "display_data"
    }
   ],
   "source": [
    "cph.plot_covariate_groups(attributes, np.array([X_train[attributes].mean().values, \n",
    "                                                X_train[attributes].mean().values+X_train[attributes].std().values,\n",
    "                                                X_train[attributes].mean().values-X_train[attributes].std().values\n",
    "                                               ]))"
   ]
  },
  {
   "cell_type": "code",
   "execution_count": 65,
   "metadata": {
    "ExecuteTime": {
     "end_time": "2019-03-19T13:35:31.704085Z",
     "start_time": "2019-03-19T13:35:31.676083Z"
    }
   },
   "outputs": [
    {
     "data": {
      "text/html": [
       "<div>\n",
       "<style scoped>\n",
       "    .dataframe tbody tr th:only-of-type {\n",
       "        vertical-align: middle;\n",
       "    }\n",
       "\n",
       "    .dataframe tbody tr th {\n",
       "        vertical-align: top;\n",
       "    }\n",
       "\n",
       "    .dataframe thead th {\n",
       "        text-align: right;\n",
       "    }\n",
       "</style>\n",
       "<table border=\"1\" class=\"dataframe\">\n",
       "  <thead>\n",
       "    <tr style=\"text-align: right;\">\n",
       "      <th></th>\n",
       "      <th>10</th>\n",
       "      <th>18</th>\n",
       "      <th>3</th>\n",
       "      <th>16</th>\n",
       "      <th>114</th>\n",
       "      <th>88</th>\n",
       "      <th>47</th>\n",
       "      <th>112</th>\n",
       "      <th>2</th>\n",
       "      <th>93</th>\n",
       "      <th>107</th>\n",
       "      <th>97</th>\n",
       "      <th>115</th>\n",
       "      <th>124</th>\n",
       "      <th>73</th>\n",
       "      <th>130</th>\n",
       "      <th>30</th>\n",
       "      <th>7</th>\n",
       "      <th>28</th>\n",
       "      <th>67</th>\n",
       "      <th>5</th>\n",
       "      <th>9</th>\n",
       "      <th>77</th>\n",
       "      <th>50</th>\n",
       "      <th>54</th>\n",
       "      <th>24</th>\n",
       "      <th>128</th>\n",
       "      <th>53</th>\n",
       "      <th>20</th>\n",
       "      <th>106</th>\n",
       "      <th>44</th>\n",
       "      <th>94</th>\n",
       "      <th>104</th>\n",
       "    </tr>\n",
       "    <tr>\n",
       "      <th>event_at</th>\n",
       "      <th></th>\n",
       "      <th></th>\n",
       "      <th></th>\n",
       "      <th></th>\n",
       "      <th></th>\n",
       "      <th></th>\n",
       "      <th></th>\n",
       "      <th></th>\n",
       "      <th></th>\n",
       "      <th></th>\n",
       "      <th></th>\n",
       "      <th></th>\n",
       "      <th></th>\n",
       "      <th></th>\n",
       "      <th></th>\n",
       "      <th></th>\n",
       "      <th></th>\n",
       "      <th></th>\n",
       "      <th></th>\n",
       "      <th></th>\n",
       "      <th></th>\n",
       "      <th></th>\n",
       "      <th></th>\n",
       "      <th></th>\n",
       "      <th></th>\n",
       "      <th></th>\n",
       "      <th></th>\n",
       "      <th></th>\n",
       "      <th></th>\n",
       "      <th></th>\n",
       "      <th></th>\n",
       "      <th></th>\n",
       "      <th></th>\n",
       "    </tr>\n",
       "  </thead>\n",
       "  <tbody>\n",
       "    <tr>\n",
       "      <th>0.00</th>\n",
       "      <td>1.00</td>\n",
       "      <td>1.00</td>\n",
       "      <td>1.00</td>\n",
       "      <td>1.00</td>\n",
       "      <td>1.00</td>\n",
       "      <td>1.00</td>\n",
       "      <td>1.00</td>\n",
       "      <td>1.00</td>\n",
       "      <td>1.00</td>\n",
       "      <td>1.00</td>\n",
       "      <td>1.00</td>\n",
       "      <td>1.00</td>\n",
       "      <td>1.00</td>\n",
       "      <td>1.00</td>\n",
       "      <td>1.00</td>\n",
       "      <td>1.00</td>\n",
       "      <td>1.00</td>\n",
       "      <td>1.00</td>\n",
       "      <td>1.00</td>\n",
       "      <td>1.00</td>\n",
       "      <td>1.00</td>\n",
       "      <td>1.00</td>\n",
       "      <td>1.00</td>\n",
       "      <td>1.00</td>\n",
       "      <td>1.00</td>\n",
       "      <td>1.00</td>\n",
       "      <td>1.00</td>\n",
       "      <td>1.00</td>\n",
       "      <td>1.00</td>\n",
       "      <td>1.00</td>\n",
       "      <td>1.00</td>\n",
       "      <td>1.00</td>\n",
       "      <td>1.00</td>\n",
       "    </tr>\n",
       "    <tr>\n",
       "      <th>0.06</th>\n",
       "      <td>1.00</td>\n",
       "      <td>0.99</td>\n",
       "      <td>0.99</td>\n",
       "      <td>1.00</td>\n",
       "      <td>1.00</td>\n",
       "      <td>0.98</td>\n",
       "      <td>0.98</td>\n",
       "      <td>1.00</td>\n",
       "      <td>0.99</td>\n",
       "      <td>0.97</td>\n",
       "      <td>1.00</td>\n",
       "      <td>0.98</td>\n",
       "      <td>1.00</td>\n",
       "      <td>1.00</td>\n",
       "      <td>1.00</td>\n",
       "      <td>1.00</td>\n",
       "      <td>1.00</td>\n",
       "      <td>0.99</td>\n",
       "      <td>1.00</td>\n",
       "      <td>0.98</td>\n",
       "      <td>0.99</td>\n",
       "      <td>0.97</td>\n",
       "      <td>1.00</td>\n",
       "      <td>0.98</td>\n",
       "      <td>1.00</td>\n",
       "      <td>0.97</td>\n",
       "      <td>1.00</td>\n",
       "      <td>1.00</td>\n",
       "      <td>0.98</td>\n",
       "      <td>1.00</td>\n",
       "      <td>0.99</td>\n",
       "      <td>1.00</td>\n",
       "      <td>1.00</td>\n",
       "    </tr>\n",
       "    <tr>\n",
       "      <th>0.07</th>\n",
       "      <td>1.00</td>\n",
       "      <td>0.98</td>\n",
       "      <td>0.97</td>\n",
       "      <td>0.99</td>\n",
       "      <td>1.00</td>\n",
       "      <td>0.95</td>\n",
       "      <td>0.96</td>\n",
       "      <td>1.00</td>\n",
       "      <td>0.98</td>\n",
       "      <td>0.95</td>\n",
       "      <td>0.99</td>\n",
       "      <td>0.96</td>\n",
       "      <td>1.00</td>\n",
       "      <td>1.00</td>\n",
       "      <td>1.00</td>\n",
       "      <td>0.99</td>\n",
       "      <td>1.00</td>\n",
       "      <td>0.97</td>\n",
       "      <td>1.00</td>\n",
       "      <td>0.96</td>\n",
       "      <td>0.97</td>\n",
       "      <td>0.94</td>\n",
       "      <td>1.00</td>\n",
       "      <td>0.95</td>\n",
       "      <td>1.00</td>\n",
       "      <td>0.95</td>\n",
       "      <td>1.00</td>\n",
       "      <td>1.00</td>\n",
       "      <td>0.96</td>\n",
       "      <td>1.00</td>\n",
       "      <td>0.98</td>\n",
       "      <td>1.00</td>\n",
       "      <td>1.00</td>\n",
       "    </tr>\n",
       "    <tr>\n",
       "      <th>0.08</th>\n",
       "      <td>0.99</td>\n",
       "      <td>0.97</td>\n",
       "      <td>0.96</td>\n",
       "      <td>0.99</td>\n",
       "      <td>0.99</td>\n",
       "      <td>0.93</td>\n",
       "      <td>0.93</td>\n",
       "      <td>1.00</td>\n",
       "      <td>0.97</td>\n",
       "      <td>0.92</td>\n",
       "      <td>0.99</td>\n",
       "      <td>0.94</td>\n",
       "      <td>0.99</td>\n",
       "      <td>1.00</td>\n",
       "      <td>1.00</td>\n",
       "      <td>0.99</td>\n",
       "      <td>1.00</td>\n",
       "      <td>0.96</td>\n",
       "      <td>0.99</td>\n",
       "      <td>0.93</td>\n",
       "      <td>0.96</td>\n",
       "      <td>0.91</td>\n",
       "      <td>1.00</td>\n",
       "      <td>0.93</td>\n",
       "      <td>0.99</td>\n",
       "      <td>0.92</td>\n",
       "      <td>1.00</td>\n",
       "      <td>1.00</td>\n",
       "      <td>0.94</td>\n",
       "      <td>1.00</td>\n",
       "      <td>0.97</td>\n",
       "      <td>1.00</td>\n",
       "      <td>1.00</td>\n",
       "    </tr>\n",
       "    <tr>\n",
       "      <th>0.12</th>\n",
       "      <td>0.99</td>\n",
       "      <td>0.96</td>\n",
       "      <td>0.94</td>\n",
       "      <td>0.98</td>\n",
       "      <td>0.99</td>\n",
       "      <td>0.90</td>\n",
       "      <td>0.91</td>\n",
       "      <td>1.00</td>\n",
       "      <td>0.97</td>\n",
       "      <td>0.89</td>\n",
       "      <td>0.99</td>\n",
       "      <td>0.92</td>\n",
       "      <td>0.99</td>\n",
       "      <td>1.00</td>\n",
       "      <td>1.00</td>\n",
       "      <td>0.99</td>\n",
       "      <td>0.99</td>\n",
       "      <td>0.95</td>\n",
       "      <td>0.99</td>\n",
       "      <td>0.91</td>\n",
       "      <td>0.94</td>\n",
       "      <td>0.87</td>\n",
       "      <td>1.00</td>\n",
       "      <td>0.91</td>\n",
       "      <td>0.99</td>\n",
       "      <td>0.89</td>\n",
       "      <td>1.00</td>\n",
       "      <td>1.00</td>\n",
       "      <td>0.92</td>\n",
       "      <td>0.99</td>\n",
       "      <td>0.96</td>\n",
       "      <td>1.00</td>\n",
       "      <td>1.00</td>\n",
       "    </tr>\n",
       "  </tbody>\n",
       "</table>\n",
       "</div>"
      ],
      "text/plain": [
       "          10   18   3    16   114  88   47   112  2    93   107  97   115  \\\n",
       "event_at                                                                    \n",
       "0.00     1.00 1.00 1.00 1.00 1.00 1.00 1.00 1.00 1.00 1.00 1.00 1.00 1.00   \n",
       "0.06     1.00 0.99 0.99 1.00 1.00 0.98 0.98 1.00 0.99 0.97 1.00 0.98 1.00   \n",
       "0.07     1.00 0.98 0.97 0.99 1.00 0.95 0.96 1.00 0.98 0.95 0.99 0.96 1.00   \n",
       "0.08     0.99 0.97 0.96 0.99 0.99 0.93 0.93 1.00 0.97 0.92 0.99 0.94 0.99   \n",
       "0.12     0.99 0.96 0.94 0.98 0.99 0.90 0.91 1.00 0.97 0.89 0.99 0.92 0.99   \n",
       "\n",
       "          124  73   130  30   7    28   67   5    9    77   50   54   24   \\\n",
       "event_at                                                                    \n",
       "0.00     1.00 1.00 1.00 1.00 1.00 1.00 1.00 1.00 1.00 1.00 1.00 1.00 1.00   \n",
       "0.06     1.00 1.00 1.00 1.00 0.99 1.00 0.98 0.99 0.97 1.00 0.98 1.00 0.97   \n",
       "0.07     1.00 1.00 0.99 1.00 0.97 1.00 0.96 0.97 0.94 1.00 0.95 1.00 0.95   \n",
       "0.08     1.00 1.00 0.99 1.00 0.96 0.99 0.93 0.96 0.91 1.00 0.93 0.99 0.92   \n",
       "0.12     1.00 1.00 0.99 0.99 0.95 0.99 0.91 0.94 0.87 1.00 0.91 0.99 0.89   \n",
       "\n",
       "          128  53   20   106  44   94   104  \n",
       "event_at                                     \n",
       "0.00     1.00 1.00 1.00 1.00 1.00 1.00 1.00  \n",
       "0.06     1.00 1.00 0.98 1.00 0.99 1.00 1.00  \n",
       "0.07     1.00 1.00 0.96 1.00 0.98 1.00 1.00  \n",
       "0.08     1.00 1.00 0.94 1.00 0.97 1.00 1.00  \n",
       "0.12     1.00 1.00 0.92 0.99 0.96 1.00 1.00  "
      ]
     },
     "execution_count": 65,
     "metadata": {},
     "output_type": "execute_result"
    }
   ],
   "source": [
    "unconditioned_sf = cph.predict_survival_function(X_test)\n",
    "unconditioned_sf.head()"
   ]
  },
  {
   "cell_type": "code",
   "execution_count": 66,
   "metadata": {
    "ExecuteTime": {
     "end_time": "2019-03-19T13:35:34.684970Z",
     "start_time": "2019-03-19T13:35:34.473972Z"
    }
   },
   "outputs": [
    {
     "data": {
      "text/plain": [
       "<matplotlib.legend.Legend at 0x2473746cbe0>"
      ]
     },
     "execution_count": 66,
     "metadata": {},
     "output_type": "execute_result"
    },
    {
     "data": {
      "image/png": "[encoded data removed]",
      "text/plain": [
       "<Figure size 648x432 with 1 Axes>"
      ]
     },
     "metadata": {
      "needs_background": "light"
     },
     "output_type": "display_data"
    }
   ],
   "source": [
    "subjects = unconditioned_sf.columns[:5]\n",
    "unconditioned_sf[subjects].plot(figsize=(9,6));\n",
    "plt.legend()"
   ]
  },
  {
   "cell_type": "code",
   "execution_count": 63,
   "metadata": {
    "ExecuteTime": {
     "end_time": "2019-03-19T13:34:29.390692Z",
     "start_time": "2019-03-19T13:34:29.370697Z"
    }
   },
   "outputs": [
    {
     "data": {
      "text/html": [
       "<div>\n",
       "<style scoped>\n",
       "    .dataframe tbody tr th:only-of-type {\n",
       "        vertical-align: middle;\n",
       "    }\n",
       "\n",
       "    .dataframe tbody tr th {\n",
       "        vertical-align: top;\n",
       "    }\n",
       "\n",
       "    .dataframe thead th {\n",
       "        text-align: right;\n",
       "    }\n",
       "</style>\n",
       "<table border=\"1\" class=\"dataframe\">\n",
       "  <thead>\n",
       "    <tr style=\"text-align: right;\">\n",
       "      <th></th>\n",
       "      <th>Staffel</th>\n",
       "      <th>Teilnehmerin</th>\n",
       "      <th>Platzierung</th>\n",
       "      <th>Alter</th>\n",
       "      <th>Größe (cm)</th>\n",
       "      <th>Haarfarbe</th>\n",
       "      <th>Augenfarbe</th>\n",
       "      <th>Hautfarbe</th>\n",
       "      <th>Brustumfang (cm)</th>\n",
       "      <th>Taillenumfang (cm)</th>\n",
       "      <th>Hüftumfang (cm)</th>\n",
       "      <th>Kleidergröße</th>\n",
       "      <th>Schuhgröße</th>\n",
       "      <th>HB</th>\n",
       "      <th>TB</th>\n",
       "      <th>TH</th>\n",
       "      <th>GM</th>\n",
       "      <th>Lebenszeit</th>\n",
       "      <th>Lebenszeit (skaliert)</th>\n",
       "    </tr>\n",
       "  </thead>\n",
       "  <tbody>\n",
       "    <tr>\n",
       "      <th>19</th>\n",
       "      <td>2</td>\n",
       "      <td>Tonia Michaely</td>\n",
       "      <td>8.00</td>\n",
       "      <td>19</td>\n",
       "      <td>182.00</td>\n",
       "      <td>blond</td>\n",
       "      <td>blau</td>\n",
       "      <td>hell</td>\n",
       "      <td>89.00</td>\n",
       "      <td>69.00</td>\n",
       "      <td>97.00</td>\n",
       "      <td>nan</td>\n",
       "      <td>nan</td>\n",
       "      <td>1.09</td>\n",
       "      <td>0.78</td>\n",
       "      <td>0.71</td>\n",
       "      <td>84.14</td>\n",
       "      <td>8.00</td>\n",
       "      <td>0.53</td>\n",
       "    </tr>\n",
       "    <tr>\n",
       "      <th>76</th>\n",
       "      <td>5</td>\n",
       "      <td>Luisa Krüger</td>\n",
       "      <td>14.00</td>\n",
       "      <td>18</td>\n",
       "      <td>176.00</td>\n",
       "      <td>braun</td>\n",
       "      <td>braun</td>\n",
       "      <td>hell</td>\n",
       "      <td>88.00</td>\n",
       "      <td>69.00</td>\n",
       "      <td>94.00</td>\n",
       "      <td>nan</td>\n",
       "      <td>40.50</td>\n",
       "      <td>1.07</td>\n",
       "      <td>0.78</td>\n",
       "      <td>0.73</td>\n",
       "      <td>82.95</td>\n",
       "      <td>5.00</td>\n",
       "      <td>0.28</td>\n",
       "    </tr>\n",
       "  </tbody>\n",
       "</table>\n",
       "</div>"
      ],
      "text/plain": [
       "    Staffel    Teilnehmerin  Platzierung  Alter  Größe (cm) Haarfarbe  \\\n",
       "19        2  Tonia Michaely         8.00     19      182.00     blond   \n",
       "76        5   Luisa Krüger         14.00     18      176.00     braun   \n",
       "\n",
       "   Augenfarbe Hautfarbe  Brustumfang (cm)  Taillenumfang (cm)  \\\n",
       "19       blau      hell             89.00               69.00   \n",
       "76     braun       hell             88.00               69.00   \n",
       "\n",
       "    Hüftumfang (cm)  Kleidergröße  Schuhgröße   HB   TB   TH    GM  \\\n",
       "19            97.00           nan         nan 1.09 0.78 0.71 84.14   \n",
       "76            94.00           nan       40.50 1.07 0.78 0.73 82.95   \n",
       "\n",
       "    Lebenszeit  Lebenszeit (skaliert)  \n",
       "19        8.00                   0.53  \n",
       "76        5.00                   0.28  "
      ]
     },
     "execution_count": 63,
     "metadata": {},
     "output_type": "execute_result"
    }
   ],
   "source": [
    "data.iloc[[19,76]]"
   ]
  },
  {
   "cell_type": "code",
   "execution_count": 71,
   "metadata": {
    "ExecuteTime": {
     "end_time": "2019-03-21T13:25:00.464577Z",
     "start_time": "2019-03-21T13:25:00.304576Z"
    }
   },
   "outputs": [
    {
     "ename": "KeyError",
     "evalue": "0",
     "output_type": "error",
     "traceback": [
      "\u001b[1;31m---------------------------------------------------------------------------\u001b[0m",
      "\u001b[1;31mKeyError\u001b[0m                                  Traceback (most recent call last)",
      "\u001b[1;32mC:\\tools\\Anaconda3\\lib\\site-packages\\pandas\\core\\indexes\\base.py\u001b[0m in \u001b[0;36mget_loc\u001b[1;34m(self, key, method, tolerance)\u001b[0m\n\u001b[0;32m   3077\u001b[0m             \u001b[1;32mtry\u001b[0m\u001b[1;33m:\u001b[0m\u001b[1;33m\u001b[0m\u001b[1;33m\u001b[0m\u001b[0m\n\u001b[1;32m-> 3078\u001b[1;33m                 \u001b[1;32mreturn\u001b[0m \u001b[0mself\u001b[0m\u001b[1;33m.\u001b[0m\u001b[0m_engine\u001b[0m\u001b[1;33m.\u001b[0m\u001b[0mget_loc\u001b[0m\u001b[1;33m(\u001b[0m\u001b[0mkey\u001b[0m\u001b[1;33m)\u001b[0m\u001b[1;33m\u001b[0m\u001b[1;33m\u001b[0m\u001b[0m\n\u001b[0m\u001b[0;32m   3079\u001b[0m             \u001b[1;32mexcept\u001b[0m \u001b[0mKeyError\u001b[0m\u001b[1;33m:\u001b[0m\u001b[1;33m\u001b[0m\u001b[1;33m\u001b[0m\u001b[0m\n",
      "\u001b[1;32mpandas\\_libs\\index.pyx\u001b[0m in \u001b[0;36mpandas._libs.index.IndexEngine.get_loc\u001b[1;34m()\u001b[0m\n",
      "\u001b[1;32mpandas\\_libs\\index.pyx\u001b[0m in \u001b[0;36mpandas._libs.index.IndexEngine.get_loc\u001b[1;34m()\u001b[0m\n",
      "\u001b[1;32mpandas\\_libs\\hashtable_class_helper.pxi\u001b[0m in \u001b[0;36mpandas._libs.hashtable.Int64HashTable.get_item\u001b[1;34m()\u001b[0m\n",
      "\u001b[1;32mpandas\\_libs\\hashtable_class_helper.pxi\u001b[0m in \u001b[0;36mpandas._libs.hashtable.Int64HashTable.get_item\u001b[1;34m()\u001b[0m\n",
      "\u001b[1;31mKeyError\u001b[0m: 0",
      "\nDuring handling of the above exception, another exception occurred:\n",
      "\u001b[1;31mKeyError\u001b[0m                                  Traceback (most recent call last)",
      "\u001b[1;32m<ipython-input-71-4530c90674eb>\u001b[0m in \u001b[0;36m<module>\u001b[1;34m\u001b[0m\n\u001b[0;32m      5\u001b[0m \u001b[0mpredictions_75\u001b[0m \u001b[1;33m=\u001b[0m \u001b[0mqth_survival_times\u001b[0m\u001b[1;33m(\u001b[0m\u001b[1;36m0.75\u001b[0m\u001b[1;33m,\u001b[0m \u001b[0munconditioned_sf\u001b[0m\u001b[1;33m)\u001b[0m\u001b[1;33m\u001b[0m\u001b[1;33m\u001b[0m\u001b[0m\n\u001b[0;32m      6\u001b[0m \u001b[1;33m\u001b[0m\u001b[0m\n\u001b[1;32m----> 7\u001b[1;33m \u001b[0munconditioned_sf\u001b[0m\u001b[1;33m[\u001b[0m\u001b[0msubject\u001b[0m\u001b[1;33m]\u001b[0m\u001b[1;33m.\u001b[0m\u001b[0mplot\u001b[0m\u001b[1;33m(\u001b[0m\u001b[0mfigsize\u001b[0m\u001b[1;33m=\u001b[0m\u001b[1;33m(\u001b[0m\u001b[1;36m9\u001b[0m\u001b[1;33m,\u001b[0m\u001b[1;36m6\u001b[0m\u001b[1;33m)\u001b[0m\u001b[1;33m)\u001b[0m\u001b[1;33m;\u001b[0m\u001b[1;33m\u001b[0m\u001b[1;33m\u001b[0m\u001b[0m\n\u001b[0m\u001b[0;32m      8\u001b[0m \u001b[1;33m\u001b[0m\u001b[0m\n\u001b[0;32m      9\u001b[0m \u001b[0mplt\u001b[0m\u001b[1;33m.\u001b[0m\u001b[0mhlines\u001b[0m\u001b[1;33m(\u001b[0m\u001b[1;33m[\u001b[0m\u001b[1;36m0.5\u001b[0m\u001b[1;33m,\u001b[0m \u001b[1;36m0.75\u001b[0m\u001b[1;33m]\u001b[0m\u001b[1;33m,\u001b[0m \u001b[1;36m0\u001b[0m\u001b[1;33m,\u001b[0m \u001b[1;36m1\u001b[0m\u001b[1;33m,\u001b[0m \u001b[0malpha\u001b[0m\u001b[1;33m=\u001b[0m\u001b[1;36m0.5\u001b[0m\u001b[1;33m,\u001b[0m \u001b[0mlabel\u001b[0m\u001b[1;33m=\u001b[0m\u001b[1;34m\"percentiles\"\u001b[0m\u001b[1;33m)\u001b[0m\u001b[1;33m\u001b[0m\u001b[1;33m\u001b[0m\u001b[0m\n",
      "\u001b[1;32mC:\\tools\\Anaconda3\\lib\\site-packages\\pandas\\core\\frame.py\u001b[0m in \u001b[0;36m__getitem__\u001b[1;34m(self, key)\u001b[0m\n\u001b[0;32m   2686\u001b[0m             \u001b[1;32mreturn\u001b[0m \u001b[0mself\u001b[0m\u001b[1;33m.\u001b[0m\u001b[0m_getitem_multilevel\u001b[0m\u001b[1;33m(\u001b[0m\u001b[0mkey\u001b[0m\u001b[1;33m)\u001b[0m\u001b[1;33m\u001b[0m\u001b[1;33m\u001b[0m\u001b[0m\n\u001b[0;32m   2687\u001b[0m         \u001b[1;32melse\u001b[0m\u001b[1;33m:\u001b[0m\u001b[1;33m\u001b[0m\u001b[1;33m\u001b[0m\u001b[0m\n\u001b[1;32m-> 2688\u001b[1;33m             \u001b[1;32mreturn\u001b[0m \u001b[0mself\u001b[0m\u001b[1;33m.\u001b[0m\u001b[0m_getitem_column\u001b[0m\u001b[1;33m(\u001b[0m\u001b[0mkey\u001b[0m\u001b[1;33m)\u001b[0m\u001b[1;33m\u001b[0m\u001b[1;33m\u001b[0m\u001b[0m\n\u001b[0m\u001b[0;32m   2689\u001b[0m \u001b[1;33m\u001b[0m\u001b[0m\n\u001b[0;32m   2690\u001b[0m     \u001b[1;32mdef\u001b[0m \u001b[0m_getitem_column\u001b[0m\u001b[1;33m(\u001b[0m\u001b[0mself\u001b[0m\u001b[1;33m,\u001b[0m \u001b[0mkey\u001b[0m\u001b[1;33m)\u001b[0m\u001b[1;33m:\u001b[0m\u001b[1;33m\u001b[0m\u001b[1;33m\u001b[0m\u001b[0m\n",
      "\u001b[1;32mC:\\tools\\Anaconda3\\lib\\site-packages\\pandas\\core\\frame.py\u001b[0m in \u001b[0;36m_getitem_column\u001b[1;34m(self, key)\u001b[0m\n\u001b[0;32m   2693\u001b[0m         \u001b[1;31m# get column\u001b[0m\u001b[1;33m\u001b[0m\u001b[1;33m\u001b[0m\u001b[1;33m\u001b[0m\u001b[0m\n\u001b[0;32m   2694\u001b[0m         \u001b[1;32mif\u001b[0m \u001b[0mself\u001b[0m\u001b[1;33m.\u001b[0m\u001b[0mcolumns\u001b[0m\u001b[1;33m.\u001b[0m\u001b[0mis_unique\u001b[0m\u001b[1;33m:\u001b[0m\u001b[1;33m\u001b[0m\u001b[1;33m\u001b[0m\u001b[0m\n\u001b[1;32m-> 2695\u001b[1;33m             \u001b[1;32mreturn\u001b[0m \u001b[0mself\u001b[0m\u001b[1;33m.\u001b[0m\u001b[0m_get_item_cache\u001b[0m\u001b[1;33m(\u001b[0m\u001b[0mkey\u001b[0m\u001b[1;33m)\u001b[0m\u001b[1;33m\u001b[0m\u001b[1;33m\u001b[0m\u001b[0m\n\u001b[0m\u001b[0;32m   2696\u001b[0m \u001b[1;33m\u001b[0m\u001b[0m\n\u001b[0;32m   2697\u001b[0m         \u001b[1;31m# duplicate columns & possible reduce dimensionality\u001b[0m\u001b[1;33m\u001b[0m\u001b[1;33m\u001b[0m\u001b[1;33m\u001b[0m\u001b[0m\n",
      "\u001b[1;32mC:\\tools\\Anaconda3\\lib\\site-packages\\pandas\\core\\generic.py\u001b[0m in \u001b[0;36m_get_item_cache\u001b[1;34m(self, item)\u001b[0m\n\u001b[0;32m   2487\u001b[0m         \u001b[0mres\u001b[0m \u001b[1;33m=\u001b[0m \u001b[0mcache\u001b[0m\u001b[1;33m.\u001b[0m\u001b[0mget\u001b[0m\u001b[1;33m(\u001b[0m\u001b[0mitem\u001b[0m\u001b[1;33m)\u001b[0m\u001b[1;33m\u001b[0m\u001b[1;33m\u001b[0m\u001b[0m\n\u001b[0;32m   2488\u001b[0m         \u001b[1;32mif\u001b[0m \u001b[0mres\u001b[0m \u001b[1;32mis\u001b[0m \u001b[1;32mNone\u001b[0m\u001b[1;33m:\u001b[0m\u001b[1;33m\u001b[0m\u001b[1;33m\u001b[0m\u001b[0m\n\u001b[1;32m-> 2489\u001b[1;33m             \u001b[0mvalues\u001b[0m \u001b[1;33m=\u001b[0m \u001b[0mself\u001b[0m\u001b[1;33m.\u001b[0m\u001b[0m_data\u001b[0m\u001b[1;33m.\u001b[0m\u001b[0mget\u001b[0m\u001b[1;33m(\u001b[0m\u001b[0mitem\u001b[0m\u001b[1;33m)\u001b[0m\u001b[1;33m\u001b[0m\u001b[1;33m\u001b[0m\u001b[0m\n\u001b[0m\u001b[0;32m   2490\u001b[0m             \u001b[0mres\u001b[0m \u001b[1;33m=\u001b[0m \u001b[0mself\u001b[0m\u001b[1;33m.\u001b[0m\u001b[0m_box_item_values\u001b[0m\u001b[1;33m(\u001b[0m\u001b[0mitem\u001b[0m\u001b[1;33m,\u001b[0m \u001b[0mvalues\u001b[0m\u001b[1;33m)\u001b[0m\u001b[1;33m\u001b[0m\u001b[1;33m\u001b[0m\u001b[0m\n\u001b[0;32m   2491\u001b[0m             \u001b[0mcache\u001b[0m\u001b[1;33m[\u001b[0m\u001b[0mitem\u001b[0m\u001b[1;33m]\u001b[0m \u001b[1;33m=\u001b[0m \u001b[0mres\u001b[0m\u001b[1;33m\u001b[0m\u001b[1;33m\u001b[0m\u001b[0m\n",
      "\u001b[1;32mC:\\tools\\Anaconda3\\lib\\site-packages\\pandas\\core\\internals.py\u001b[0m in \u001b[0;36mget\u001b[1;34m(self, item, fastpath)\u001b[0m\n\u001b[0;32m   4113\u001b[0m \u001b[1;33m\u001b[0m\u001b[0m\n\u001b[0;32m   4114\u001b[0m             \u001b[1;32mif\u001b[0m \u001b[1;32mnot\u001b[0m \u001b[0misna\u001b[0m\u001b[1;33m(\u001b[0m\u001b[0mitem\u001b[0m\u001b[1;33m)\u001b[0m\u001b[1;33m:\u001b[0m\u001b[1;33m\u001b[0m\u001b[1;33m\u001b[0m\u001b[0m\n\u001b[1;32m-> 4115\u001b[1;33m                 \u001b[0mloc\u001b[0m \u001b[1;33m=\u001b[0m \u001b[0mself\u001b[0m\u001b[1;33m.\u001b[0m\u001b[0mitems\u001b[0m\u001b[1;33m.\u001b[0m\u001b[0mget_loc\u001b[0m\u001b[1;33m(\u001b[0m\u001b[0mitem\u001b[0m\u001b[1;33m)\u001b[0m\u001b[1;33m\u001b[0m\u001b[1;33m\u001b[0m\u001b[0m\n\u001b[0m\u001b[0;32m   4116\u001b[0m             \u001b[1;32melse\u001b[0m\u001b[1;33m:\u001b[0m\u001b[1;33m\u001b[0m\u001b[1;33m\u001b[0m\u001b[0m\n\u001b[0;32m   4117\u001b[0m                 \u001b[0mindexer\u001b[0m \u001b[1;33m=\u001b[0m \u001b[0mnp\u001b[0m\u001b[1;33m.\u001b[0m\u001b[0marange\u001b[0m\u001b[1;33m(\u001b[0m\u001b[0mlen\u001b[0m\u001b[1;33m(\u001b[0m\u001b[0mself\u001b[0m\u001b[1;33m.\u001b[0m\u001b[0mitems\u001b[0m\u001b[1;33m)\u001b[0m\u001b[1;33m)\u001b[0m\u001b[1;33m[\u001b[0m\u001b[0misna\u001b[0m\u001b[1;33m(\u001b[0m\u001b[0mself\u001b[0m\u001b[1;33m.\u001b[0m\u001b[0mitems\u001b[0m\u001b[1;33m)\u001b[0m\u001b[1;33m]\u001b[0m\u001b[1;33m\u001b[0m\u001b[1;33m\u001b[0m\u001b[0m\n",
      "\u001b[1;32mC:\\tools\\Anaconda3\\lib\\site-packages\\pandas\\core\\indexes\\base.py\u001b[0m in \u001b[0;36mget_loc\u001b[1;34m(self, key, method, tolerance)\u001b[0m\n\u001b[0;32m   3078\u001b[0m                 \u001b[1;32mreturn\u001b[0m \u001b[0mself\u001b[0m\u001b[1;33m.\u001b[0m\u001b[0m_engine\u001b[0m\u001b[1;33m.\u001b[0m\u001b[0mget_loc\u001b[0m\u001b[1;33m(\u001b[0m\u001b[0mkey\u001b[0m\u001b[1;33m)\u001b[0m\u001b[1;33m\u001b[0m\u001b[1;33m\u001b[0m\u001b[0m\n\u001b[0;32m   3079\u001b[0m             \u001b[1;32mexcept\u001b[0m \u001b[0mKeyError\u001b[0m\u001b[1;33m:\u001b[0m\u001b[1;33m\u001b[0m\u001b[1;33m\u001b[0m\u001b[0m\n\u001b[1;32m-> 3080\u001b[1;33m                 \u001b[1;32mreturn\u001b[0m \u001b[0mself\u001b[0m\u001b[1;33m.\u001b[0m\u001b[0m_engine\u001b[0m\u001b[1;33m.\u001b[0m\u001b[0mget_loc\u001b[0m\u001b[1;33m(\u001b[0m\u001b[0mself\u001b[0m\u001b[1;33m.\u001b[0m\u001b[0m_maybe_cast_indexer\u001b[0m\u001b[1;33m(\u001b[0m\u001b[0mkey\u001b[0m\u001b[1;33m)\u001b[0m\u001b[1;33m)\u001b[0m\u001b[1;33m\u001b[0m\u001b[1;33m\u001b[0m\u001b[0m\n\u001b[0m\u001b[0;32m   3081\u001b[0m \u001b[1;33m\u001b[0m\u001b[0m\n\u001b[0;32m   3082\u001b[0m         \u001b[0mindexer\u001b[0m \u001b[1;33m=\u001b[0m \u001b[0mself\u001b[0m\u001b[1;33m.\u001b[0m\u001b[0mget_indexer\u001b[0m\u001b[1;33m(\u001b[0m\u001b[1;33m[\u001b[0m\u001b[0mkey\u001b[0m\u001b[1;33m]\u001b[0m\u001b[1;33m,\u001b[0m \u001b[0mmethod\u001b[0m\u001b[1;33m=\u001b[0m\u001b[0mmethod\u001b[0m\u001b[1;33m,\u001b[0m \u001b[0mtolerance\u001b[0m\u001b[1;33m=\u001b[0m\u001b[0mtolerance\u001b[0m\u001b[1;33m)\u001b[0m\u001b[1;33m\u001b[0m\u001b[1;33m\u001b[0m\u001b[0m\n",
      "\u001b[1;32mpandas\\_libs\\index.pyx\u001b[0m in \u001b[0;36mpandas._libs.index.IndexEngine.get_loc\u001b[1;34m()\u001b[0m\n",
      "\u001b[1;32mpandas\\_libs\\index.pyx\u001b[0m in \u001b[0;36mpandas._libs.index.IndexEngine.get_loc\u001b[1;34m()\u001b[0m\n",
      "\u001b[1;32mpandas\\_libs\\hashtable_class_helper.pxi\u001b[0m in \u001b[0;36mpandas._libs.hashtable.Int64HashTable.get_item\u001b[1;34m()\u001b[0m\n",
      "\u001b[1;32mpandas\\_libs\\hashtable_class_helper.pxi\u001b[0m in \u001b[0;36mpandas._libs.hashtable.Int64HashTable.get_item\u001b[1;34m()\u001b[0m\n",
      "\u001b[1;31mKeyError\u001b[0m: 0"
     ]
    }
   ],
   "source": [
    "from lifelines.utils import median_survival_times, qth_survival_times\n",
    "subject=0\n",
    "\n",
    "predictions_50 = median_survival_times(unconditioned_sf)\n",
    "predictions_75 = qth_survival_times(0.75, unconditioned_sf)\n",
    "\n",
    "unconditioned_sf[subject].plot(figsize=(9,6));\n",
    "\n",
    "plt.hlines([0.5, 0.75], 0, 1, alpha=0.5, label=\"percentiles\")\n",
    "\n",
    "plt.scatter(median_survival_times(unconditioned_sf[subject]), 0.5,  color=\"#E24A33\", label=\"median prediction\", zorder=20)\n",
    "plt.scatter(qth_survival_times(0.75, unconditioned_sf[subject]), 0.75,  color=\"#467821\", label=\"q=75 prediction\", zorder=20)\n",
    "\n",
    "plt.legend()"
   ]
  },
  {
   "cell_type": "code",
   "execution_count": null,
   "metadata": {},
   "outputs": [],
   "source": []
  }
 ],
 "metadata": {
  "kernelspec": {
   "display_name": "Python 3",
   "language": "python",
   "name": "python3"
  },
  "language_info": {
   "codemirror_mode": {
    "name": "ipython",
    "version": 3
   },
   "file_extension": ".py",
   "mimetype": "text/x-python",
   "name": "python",
   "nbconvert_exporter": "python",
   "pygments_lexer": "ipython3",
   "version": "3.7.1"
  },
  "toc": {
   "base_numbering": 1,
   "nav_menu": {},
   "number_sections": true,
   "sideBar": true,
   "skip_h1_title": false,
   "title_cell": "Table of Contents",
   "title_sidebar": "Contents",
   "toc_cell": false,
   "toc_position": {
    "height": "calc(100% - 180px)",
    "left": "10px",
    "top": "150px",
    "width": "304px"
   },
   "toc_section_display": true,
   "toc_window_display": true
  },
  "varInspector": {
   "cols": {
    "lenName": 16,
    "lenType": 16,
    "lenVar": 40
   },
   "kernels_config": {
    "python": {
     "delete_cmd_postfix": "",
     "delete_cmd_prefix": "del ",
     "library": "var_list.py",
     "varRefreshCmd": "print(var_dic_list())"
    },
    "r": {
     "delete_cmd_postfix": ") ",
     "delete_cmd_prefix": "rm(",
     "library": "var_list.r",
     "varRefreshCmd": "cat(var_dic_list()) "
    }
   },
   "types_to_exclude": [
    "module",
    "function",
    "builtin_function_or_method",
    "instance",
    "_Feature"
   ],
   "window_display": false
  }
 },
 "nbformat": 4,
 "nbformat_minor": 2
}
