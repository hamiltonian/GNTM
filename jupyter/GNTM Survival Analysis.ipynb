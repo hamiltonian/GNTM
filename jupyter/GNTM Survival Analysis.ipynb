{
 "cells": [
  {
   "cell_type": "markdown",
   "metadata": {},
   "source": [
    "# Importe"
   ]
  },
  {
   "cell_type": "code",
   "execution_count": 1,
   "metadata": {
    "ExecuteTime": {
     "end_time": "2019-03-15T11:11:21.313851Z",
     "start_time": "2019-03-15T11:11:18.540859Z"
    }
   },
   "outputs": [],
   "source": [
    "# Data related libraries\n",
    "import numpy as np\n",
    "import pandas as pd\n",
    "# Plotting\n",
    "import matplotlib.pyplot as plt\n",
    "from ipywidgets import interact, fixed\n",
    "from IPython.display import display, HTML\n",
    "# Convenient helpers\n",
    "from copy import copy\n",
    "from time import time\n",
    "from collections import defaultdict, Counter\n",
    "from sklearn.preprocessing import minmax_scale\n",
    "# Printing libraries and settings\n",
    "# import warnings; warnings.filterwarnings('ignore')\n",
    "pd.set_option('display.max_columns', 500)\n",
    "pd.set_option('display.float_format','{0:.2f}'.format)\n",
    "%matplotlib inline"
   ]
  },
  {
   "cell_type": "markdown",
   "metadata": {},
   "source": [
    "# Laden der Daten"
   ]
  },
  {
   "cell_type": "code",
   "execution_count": 2,
   "metadata": {
    "ExecuteTime": {
     "end_time": "2019-03-15T11:11:21.356850Z",
     "start_time": "2019-03-15T11:11:21.333854Z"
    }
   },
   "outputs": [
    {
     "data": {
      "text/html": [
       "<div>\n",
       "<style scoped>\n",
       "    .dataframe tbody tr th:only-of-type {\n",
       "        vertical-align: middle;\n",
       "    }\n",
       "\n",
       "    .dataframe tbody tr th {\n",
       "        vertical-align: top;\n",
       "    }\n",
       "\n",
       "    .dataframe thead th {\n",
       "        text-align: right;\n",
       "    }\n",
       "</style>\n",
       "<table border=\"1\" class=\"dataframe\">\n",
       "  <thead>\n",
       "    <tr style=\"text-align: right;\">\n",
       "      <th></th>\n",
       "      <th>Staffel</th>\n",
       "      <th>Teilnehmerin</th>\n",
       "      <th>Platzierung</th>\n",
       "      <th>Alter</th>\n",
       "      <th>Größe (cm)</th>\n",
       "      <th>Haarfarbe</th>\n",
       "      <th>Augenfarbe</th>\n",
       "      <th>Hautfarbe</th>\n",
       "      <th>Brustumfang (cm)</th>\n",
       "      <th>Taillenumfang (cm)</th>\n",
       "      <th>Hüftumfang (cm)</th>\n",
       "      <th>Kleidergröße</th>\n",
       "      <th>Schuhgröße</th>\n",
       "    </tr>\n",
       "  </thead>\n",
       "  <tbody>\n",
       "    <tr>\n",
       "      <th>0</th>\n",
       "      <td>1</td>\n",
       "      <td>Lena Gercke</td>\n",
       "      <td>1.00</td>\n",
       "      <td>17</td>\n",
       "      <td>178.00</td>\n",
       "      <td>blond</td>\n",
       "      <td>blau</td>\n",
       "      <td>hell</td>\n",
       "      <td>90.00</td>\n",
       "      <td>62.00</td>\n",
       "      <td>90.00</td>\n",
       "      <td>36.00</td>\n",
       "      <td>39.00</td>\n",
       "    </tr>\n",
       "    <tr>\n",
       "      <th>1</th>\n",
       "      <td>1</td>\n",
       "      <td>Yvonne Schröder</td>\n",
       "      <td>2.00</td>\n",
       "      <td>17</td>\n",
       "      <td>174.00</td>\n",
       "      <td>blond</td>\n",
       "      <td>blau</td>\n",
       "      <td>hell</td>\n",
       "      <td>nan</td>\n",
       "      <td>nan</td>\n",
       "      <td>nan</td>\n",
       "      <td>nan</td>\n",
       "      <td>nan</td>\n",
       "    </tr>\n",
       "    <tr>\n",
       "      <th>2</th>\n",
       "      <td>1</td>\n",
       "      <td>Jennifer Wanderer</td>\n",
       "      <td>3.00</td>\n",
       "      <td>17</td>\n",
       "      <td>178.00</td>\n",
       "      <td>braun</td>\n",
       "      <td>NaN</td>\n",
       "      <td>hell</td>\n",
       "      <td>nan</td>\n",
       "      <td>nan</td>\n",
       "      <td>nan</td>\n",
       "      <td>nan</td>\n",
       "      <td>nan</td>\n",
       "    </tr>\n",
       "    <tr>\n",
       "      <th>3</th>\n",
       "      <td>1</td>\n",
       "      <td>Janina Ortmann</td>\n",
       "      <td>4.00</td>\n",
       "      <td>20</td>\n",
       "      <td>173.00</td>\n",
       "      <td>blond</td>\n",
       "      <td>grün</td>\n",
       "      <td>hell</td>\n",
       "      <td>85.00</td>\n",
       "      <td>59.00</td>\n",
       "      <td>89.00</td>\n",
       "      <td>nan</td>\n",
       "      <td>40.00</td>\n",
       "    </tr>\n",
       "    <tr>\n",
       "      <th>4</th>\n",
       "      <td>1</td>\n",
       "      <td>Lena Meier</td>\n",
       "      <td>5.00</td>\n",
       "      <td>20</td>\n",
       "      <td>180.00</td>\n",
       "      <td>braun</td>\n",
       "      <td>grün</td>\n",
       "      <td>hell</td>\n",
       "      <td>83.00</td>\n",
       "      <td>61.00</td>\n",
       "      <td>89.00</td>\n",
       "      <td>36.00</td>\n",
       "      <td>40.00</td>\n",
       "    </tr>\n",
       "  </tbody>\n",
       "</table>\n",
       "</div>"
      ],
      "text/plain": [
       "   Staffel       Teilnehmerin  Platzierung  Alter  Größe (cm) Haarfarbe  \\\n",
       "0        1        Lena Gercke         1.00     17      178.00     blond   \n",
       "1        1    Yvonne Schröder         2.00     17      174.00     blond   \n",
       "2        1  Jennifer Wanderer         3.00     17      178.00     braun   \n",
       "3        1    Janina Ortmann          4.00     20      173.00     blond   \n",
       "4        1        Lena Meier          5.00     20      180.00     braun   \n",
       "\n",
       "  Augenfarbe Hautfarbe  Brustumfang (cm)  Taillenumfang (cm)  Hüftumfang (cm)  \\\n",
       "0       blau      hell             90.00               62.00            90.00   \n",
       "1       blau      hell               nan                 nan              nan   \n",
       "2        NaN      hell               nan                 nan              nan   \n",
       "3       grün      hell             85.00               59.00            89.00   \n",
       "4       grün      hell             83.00               61.00            89.00   \n",
       "\n",
       "   Kleidergröße  Schuhgröße  \n",
       "0         36.00       39.00  \n",
       "1           nan         nan  \n",
       "2           nan         nan  \n",
       "3           nan       40.00  \n",
       "4         36.00       40.00  "
      ]
     },
     "execution_count": 2,
     "metadata": {},
     "output_type": "execute_result"
    }
   ],
   "source": [
    "# Laden der Daten\n",
    "data  = pd.read_csv('../data/gntm.csv')\n",
    "data.head()"
   ]
  },
  {
   "cell_type": "code",
   "execution_count": 3,
   "metadata": {
    "ExecuteTime": {
     "end_time": "2019-03-15T11:11:24.307918Z",
     "start_time": "2019-03-15T11:11:24.264920Z"
    }
   },
   "outputs": [
    {
     "data": {
      "text/html": [
       "<div>\n",
       "<style scoped>\n",
       "    .dataframe tbody tr th:only-of-type {\n",
       "        vertical-align: middle;\n",
       "    }\n",
       "\n",
       "    .dataframe tbody tr th {\n",
       "        vertical-align: top;\n",
       "    }\n",
       "\n",
       "    .dataframe thead th {\n",
       "        text-align: right;\n",
       "    }\n",
       "</style>\n",
       "<table border=\"1\" class=\"dataframe\">\n",
       "  <thead>\n",
       "    <tr style=\"text-align: right;\">\n",
       "      <th></th>\n",
       "      <th>Staffel</th>\n",
       "      <th>Platzierung</th>\n",
       "      <th>Alter</th>\n",
       "      <th>Größe (cm)</th>\n",
       "      <th>Brustumfang (cm)</th>\n",
       "      <th>Taillenumfang (cm)</th>\n",
       "      <th>Hüftumfang (cm)</th>\n",
       "      <th>Kleidergröße</th>\n",
       "      <th>Schuhgröße</th>\n",
       "    </tr>\n",
       "  </thead>\n",
       "  <tbody>\n",
       "    <tr>\n",
       "      <th>count</th>\n",
       "      <td>277.00</td>\n",
       "      <td>276.00</td>\n",
       "      <td>277.00</td>\n",
       "      <td>251.00</td>\n",
       "      <td>132.00</td>\n",
       "      <td>132.00</td>\n",
       "      <td>132.00</td>\n",
       "      <td>57.00</td>\n",
       "      <td>77.00</td>\n",
       "    </tr>\n",
       "    <tr>\n",
       "      <th>mean</th>\n",
       "      <td>7.77</td>\n",
       "      <td>11.40</td>\n",
       "      <td>19.04</td>\n",
       "      <td>176.91</td>\n",
       "      <td>84.38</td>\n",
       "      <td>63.29</td>\n",
       "      <td>90.38</td>\n",
       "      <td>35.19</td>\n",
       "      <td>39.36</td>\n",
       "    </tr>\n",
       "    <tr>\n",
       "      <th>std</th>\n",
       "      <td>3.64</td>\n",
       "      <td>6.78</td>\n",
       "      <td>2.21</td>\n",
       "      <td>3.23</td>\n",
       "      <td>3.82</td>\n",
       "      <td>3.08</td>\n",
       "      <td>3.55</td>\n",
       "      <td>1.06</td>\n",
       "      <td>1.14</td>\n",
       "    </tr>\n",
       "    <tr>\n",
       "      <th>min</th>\n",
       "      <td>1.00</td>\n",
       "      <td>1.00</td>\n",
       "      <td>16.00</td>\n",
       "      <td>169.00</td>\n",
       "      <td>71.00</td>\n",
       "      <td>56.00</td>\n",
       "      <td>80.00</td>\n",
       "      <td>32.00</td>\n",
       "      <td>36.00</td>\n",
       "    </tr>\n",
       "    <tr>\n",
       "      <th>25%</th>\n",
       "      <td>5.00</td>\n",
       "      <td>6.00</td>\n",
       "      <td>17.00</td>\n",
       "      <td>175.00</td>\n",
       "      <td>82.00</td>\n",
       "      <td>61.00</td>\n",
       "      <td>89.00</td>\n",
       "      <td>34.00</td>\n",
       "      <td>39.00</td>\n",
       "    </tr>\n",
       "    <tr>\n",
       "      <th>50%</th>\n",
       "      <td>8.00</td>\n",
       "      <td>11.00</td>\n",
       "      <td>19.00</td>\n",
       "      <td>177.00</td>\n",
       "      <td>84.00</td>\n",
       "      <td>63.00</td>\n",
       "      <td>90.00</td>\n",
       "      <td>36.00</td>\n",
       "      <td>39.00</td>\n",
       "    </tr>\n",
       "    <tr>\n",
       "      <th>75%</th>\n",
       "      <td>11.00</td>\n",
       "      <td>16.00</td>\n",
       "      <td>20.00</td>\n",
       "      <td>179.00</td>\n",
       "      <td>87.00</td>\n",
       "      <td>65.00</td>\n",
       "      <td>93.00</td>\n",
       "      <td>36.00</td>\n",
       "      <td>40.00</td>\n",
       "    </tr>\n",
       "    <tr>\n",
       "      <th>max</th>\n",
       "      <td>13.00</td>\n",
       "      <td>29.00</td>\n",
       "      <td>25.00</td>\n",
       "      <td>187.00</td>\n",
       "      <td>98.00</td>\n",
       "      <td>72.00</td>\n",
       "      <td>98.00</td>\n",
       "      <td>36.00</td>\n",
       "      <td>42.00</td>\n",
       "    </tr>\n",
       "  </tbody>\n",
       "</table>\n",
       "</div>"
      ],
      "text/plain": [
       "       Staffel  Platzierung  Alter  Größe (cm)  Brustumfang (cm)  \\\n",
       "count   277.00       276.00 277.00      251.00            132.00   \n",
       "mean      7.77        11.40  19.04      176.91             84.38   \n",
       "std       3.64         6.78   2.21        3.23              3.82   \n",
       "min       1.00         1.00  16.00      169.00             71.00   \n",
       "25%       5.00         6.00  17.00      175.00             82.00   \n",
       "50%       8.00        11.00  19.00      177.00             84.00   \n",
       "75%      11.00        16.00  20.00      179.00             87.00   \n",
       "max      13.00        29.00  25.00      187.00             98.00   \n",
       "\n",
       "       Taillenumfang (cm)  Hüftumfang (cm)  Kleidergröße  Schuhgröße  \n",
       "count              132.00           132.00         57.00       77.00  \n",
       "mean                63.29            90.38         35.19       39.36  \n",
       "std                  3.08             3.55          1.06        1.14  \n",
       "min                 56.00            80.00         32.00       36.00  \n",
       "25%                 61.00            89.00         34.00       39.00  \n",
       "50%                 63.00            90.00         36.00       39.00  \n",
       "75%                 65.00            93.00         36.00       40.00  \n",
       "max                 72.00            98.00         36.00       42.00  "
      ]
     },
     "execution_count": 3,
     "metadata": {},
     "output_type": "execute_result"
    }
   ],
   "source": [
    "# Basisinfos über die Daten\n",
    "data.describe()"
   ]
  },
  {
   "cell_type": "markdown",
   "metadata": {},
   "source": [
    "# Features hinzufügen und plotten"
   ]
  },
  {
   "cell_type": "code",
   "execution_count": 4,
   "metadata": {
    "ExecuteTime": {
     "end_time": "2019-03-15T11:11:32.450700Z",
     "start_time": "2019-03-15T11:11:32.416699Z"
    }
   },
   "outputs": [
    {
     "data": {
      "text/html": [
       "<div>\n",
       "<style scoped>\n",
       "    .dataframe tbody tr th:only-of-type {\n",
       "        vertical-align: middle;\n",
       "    }\n",
       "\n",
       "    .dataframe tbody tr th {\n",
       "        vertical-align: top;\n",
       "    }\n",
       "\n",
       "    .dataframe thead th {\n",
       "        text-align: right;\n",
       "    }\n",
       "</style>\n",
       "<table border=\"1\" class=\"dataframe\">\n",
       "  <thead>\n",
       "    <tr style=\"text-align: right;\">\n",
       "      <th></th>\n",
       "      <th>Staffel</th>\n",
       "      <th>Teilnehmerin</th>\n",
       "      <th>Platzierung</th>\n",
       "      <th>Alter</th>\n",
       "      <th>Größe (cm)</th>\n",
       "      <th>Haarfarbe</th>\n",
       "      <th>Augenfarbe</th>\n",
       "      <th>Hautfarbe</th>\n",
       "      <th>Brustumfang (cm)</th>\n",
       "      <th>Taillenumfang (cm)</th>\n",
       "      <th>Hüftumfang (cm)</th>\n",
       "      <th>Kleidergröße</th>\n",
       "      <th>Schuhgröße</th>\n",
       "      <th>HB</th>\n",
       "      <th>TB</th>\n",
       "      <th>TH</th>\n",
       "      <th>GM</th>\n",
       "    </tr>\n",
       "  </thead>\n",
       "  <tbody>\n",
       "    <tr>\n",
       "      <th>0</th>\n",
       "      <td>1</td>\n",
       "      <td>Lena Gercke</td>\n",
       "      <td>1.00</td>\n",
       "      <td>17</td>\n",
       "      <td>178.00</td>\n",
       "      <td>blond</td>\n",
       "      <td>blau</td>\n",
       "      <td>hell</td>\n",
       "      <td>90.00</td>\n",
       "      <td>62.00</td>\n",
       "      <td>90.00</td>\n",
       "      <td>36.00</td>\n",
       "      <td>39.00</td>\n",
       "      <td>1.00</td>\n",
       "      <td>0.69</td>\n",
       "      <td>0.69</td>\n",
       "      <td>79.49</td>\n",
       "    </tr>\n",
       "    <tr>\n",
       "      <th>1</th>\n",
       "      <td>1</td>\n",
       "      <td>Yvonne Schröder</td>\n",
       "      <td>2.00</td>\n",
       "      <td>17</td>\n",
       "      <td>174.00</td>\n",
       "      <td>blond</td>\n",
       "      <td>blau</td>\n",
       "      <td>hell</td>\n",
       "      <td>nan</td>\n",
       "      <td>nan</td>\n",
       "      <td>nan</td>\n",
       "      <td>nan</td>\n",
       "      <td>nan</td>\n",
       "      <td>nan</td>\n",
       "      <td>nan</td>\n",
       "      <td>nan</td>\n",
       "      <td>nan</td>\n",
       "    </tr>\n",
       "    <tr>\n",
       "      <th>2</th>\n",
       "      <td>1</td>\n",
       "      <td>Jennifer Wanderer</td>\n",
       "      <td>3.00</td>\n",
       "      <td>17</td>\n",
       "      <td>178.00</td>\n",
       "      <td>braun</td>\n",
       "      <td>NaN</td>\n",
       "      <td>hell</td>\n",
       "      <td>nan</td>\n",
       "      <td>nan</td>\n",
       "      <td>nan</td>\n",
       "      <td>nan</td>\n",
       "      <td>nan</td>\n",
       "      <td>nan</td>\n",
       "      <td>nan</td>\n",
       "      <td>nan</td>\n",
       "      <td>nan</td>\n",
       "    </tr>\n",
       "    <tr>\n",
       "      <th>3</th>\n",
       "      <td>1</td>\n",
       "      <td>Janina Ortmann</td>\n",
       "      <td>4.00</td>\n",
       "      <td>20</td>\n",
       "      <td>173.00</td>\n",
       "      <td>blond</td>\n",
       "      <td>grün</td>\n",
       "      <td>hell</td>\n",
       "      <td>85.00</td>\n",
       "      <td>59.00</td>\n",
       "      <td>89.00</td>\n",
       "      <td>nan</td>\n",
       "      <td>40.00</td>\n",
       "      <td>1.05</td>\n",
       "      <td>0.69</td>\n",
       "      <td>0.66</td>\n",
       "      <td>76.42</td>\n",
       "    </tr>\n",
       "    <tr>\n",
       "      <th>4</th>\n",
       "      <td>1</td>\n",
       "      <td>Lena Meier</td>\n",
       "      <td>5.00</td>\n",
       "      <td>20</td>\n",
       "      <td>180.00</td>\n",
       "      <td>braun</td>\n",
       "      <td>grün</td>\n",
       "      <td>hell</td>\n",
       "      <td>83.00</td>\n",
       "      <td>61.00</td>\n",
       "      <td>89.00</td>\n",
       "      <td>36.00</td>\n",
       "      <td>40.00</td>\n",
       "      <td>1.07</td>\n",
       "      <td>0.73</td>\n",
       "      <td>0.69</td>\n",
       "      <td>76.67</td>\n",
       "    </tr>\n",
       "  </tbody>\n",
       "</table>\n",
       "</div>"
      ],
      "text/plain": [
       "   Staffel       Teilnehmerin  Platzierung  Alter  Größe (cm) Haarfarbe  \\\n",
       "0        1        Lena Gercke         1.00     17      178.00     blond   \n",
       "1        1    Yvonne Schröder         2.00     17      174.00     blond   \n",
       "2        1  Jennifer Wanderer         3.00     17      178.00     braun   \n",
       "3        1    Janina Ortmann          4.00     20      173.00     blond   \n",
       "4        1        Lena Meier          5.00     20      180.00     braun   \n",
       "\n",
       "  Augenfarbe Hautfarbe  Brustumfang (cm)  Taillenumfang (cm)  Hüftumfang (cm)  \\\n",
       "0       blau      hell             90.00               62.00            90.00   \n",
       "1       blau      hell               nan                 nan              nan   \n",
       "2        NaN      hell               nan                 nan              nan   \n",
       "3       grün      hell             85.00               59.00            89.00   \n",
       "4       grün      hell             83.00               61.00            89.00   \n",
       "\n",
       "   Kleidergröße  Schuhgröße   HB   TB   TH    GM  \n",
       "0         36.00       39.00 1.00 0.69 0.69 79.49  \n",
       "1           nan         nan  nan  nan  nan   nan  \n",
       "2           nan         nan  nan  nan  nan   nan  \n",
       "3           nan       40.00 1.05 0.69 0.66 76.42  \n",
       "4         36.00       40.00 1.07 0.73 0.69 76.67  "
      ]
     },
     "execution_count": 4,
     "metadata": {},
     "output_type": "execute_result"
    }
   ],
   "source": [
    "# \"Proportionen\" könnten interessant sein\n",
    "# HB = Hüftumfang / Brustumfang\n",
    "# TB = Taillenumfang / Brustumfang\n",
    "# HT = Hüftumfang / Taillenumfang\n",
    "# GM = Geometrisches Mittel\n",
    "from scipy.stats import gmean\n",
    "\n",
    "data['HB'] = data['Hüftumfang (cm)'] / data['Brustumfang (cm)']\n",
    "data['TB'] = data['Taillenumfang (cm)'] / data['Brustumfang (cm)']\n",
    "data['TH'] = data['Taillenumfang (cm)'] / data['Hüftumfang (cm)']\n",
    "data['GM'] = gmean(data[['Brustumfang (cm)','Taillenumfang (cm)','Hüftumfang (cm)']], axis=1)\n",
    "data.head()"
   ]
  },
  {
   "cell_type": "code",
   "execution_count": 5,
   "metadata": {
    "ExecuteTime": {
     "end_time": "2019-03-15T11:11:39.113395Z",
     "start_time": "2019-03-15T11:11:37.629362Z"
    }
   },
   "outputs": [
    {
     "data": {
      "image/png": "[encoded data removed]",
      "text/plain": [
       "<Figure size 1152x864 with 16 Axes>"
      ]
     },
     "metadata": {
      "needs_background": "light"
     },
     "output_type": "display_data"
    }
   ],
   "source": [
    "# Basishistogramme\n",
    "data.hist(figsize=(16,12), bins=10);"
   ]
  },
  {
   "cell_type": "code",
   "execution_count": 6,
   "metadata": {
    "ExecuteTime": {
     "end_time": "2019-03-13T11:48:47.293601Z",
     "start_time": "2019-03-13T11:48:47.137249Z"
    }
   },
   "outputs": [
    {
     "data": {
      "image/png": "[encoded data removed]",
      "text/plain": [
       "<Figure size 432x288 with 1 Axes>"
      ]
     },
     "metadata": {
      "needs_background": "light"
     },
     "output_type": "display_data"
    }
   ],
   "source": [
    "# Nominale Attribute plotten\n",
    "data['Haarfarbe'].value_counts().plot.bar(color='steelblue');"
   ]
  },
  {
   "cell_type": "code",
   "execution_count": 7,
   "metadata": {
    "ExecuteTime": {
     "end_time": "2019-03-13T11:48:47.639679Z",
     "start_time": "2019-03-13T11:48:47.434144Z"
    }
   },
   "outputs": [
    {
     "data": {
      "image/png": "[encoded data removed]",
      "text/plain": [
       "<Figure size 432x288 with 1 Axes>"
      ]
     },
     "metadata": {
      "needs_background": "light"
     },
     "output_type": "display_data"
    }
   ],
   "source": [
    "data['Augenfarbe'].value_counts().plot.bar(color='steelblue');"
   ]
  },
  {
   "cell_type": "code",
   "execution_count": 8,
   "metadata": {
    "ExecuteTime": {
     "end_time": "2019-03-13T11:48:47.858427Z",
     "start_time": "2019-03-13T11:48:47.717765Z"
    }
   },
   "outputs": [
    {
     "data": {
      "image/png": "[encoded data removed]",
      "text/plain": [
       "<Figure size 432x288 with 1 Axes>"
      ]
     },
     "metadata": {
      "needs_background": "light"
     },
     "output_type": "display_data"
    }
   ],
   "source": [
    "data['Hautfarbe'].value_counts().plot.bar(color='steelblue');"
   ]
  },
  {
   "cell_type": "markdown",
   "metadata": {},
   "source": [
    "# Lebenszeit berechnen und NANs entfernen"
   ]
  },
  {
   "cell_type": "code",
   "execution_count": 17,
   "metadata": {
    "ExecuteTime": {
     "end_time": "2019-03-15T11:23:48.085291Z",
     "start_time": "2019-03-15T11:23:48.074285Z"
    }
   },
   "outputs": [],
   "source": [
    "# Berechne Lebenszeit\n",
    "episoden = data.groupby('Staffel').count()['Platzierung'][data['Staffel']]\n",
    "episoden.index = data.index\n",
    "data['Lebenszeit'] = episoden - data['Platzierung'] + 1\n",
    "# Berechne skalierte Lebenszeit\n",
    "data['Lebenszeit (skaliert)'] = data['Lebenszeit']/episoden"
   ]
  },
  {
   "cell_type": "code",
   "execution_count": 18,
   "metadata": {
    "ExecuteTime": {
     "end_time": "2019-03-15T11:23:51.724266Z",
     "start_time": "2019-03-15T11:23:51.713271Z"
    }
   },
   "outputs": [
    {
     "data": {
      "text/plain": [
       "Staffel                  277\n",
       "Teilnehmerin             277\n",
       "Platzierung              276\n",
       "Alter                    277\n",
       "Größe (cm)               251\n",
       "Haarfarbe                134\n",
       "Augenfarbe               131\n",
       "Hautfarbe                137\n",
       "Brustumfang (cm)         132\n",
       "Taillenumfang (cm)       132\n",
       "Hüftumfang (cm)          132\n",
       "Kleidergröße              57\n",
       "Schuhgröße                77\n",
       "HB                       132\n",
       "TB                       132\n",
       "TH                       132\n",
       "GM                       132\n",
       "Lebenszeit               276\n",
       "Lebenszeit (skaliert)    276\n",
       "dtype: int64"
      ]
     },
     "execution_count": 18,
     "metadata": {},
     "output_type": "execute_result"
    }
   ],
   "source": [
    "# Existing Values\n",
    "len(data)-data.isnull().sum()"
   ]
  },
  {
   "cell_type": "code",
   "execution_count": 19,
   "metadata": {
    "ExecuteTime": {
     "end_time": "2019-03-15T11:24:20.681863Z",
     "start_time": "2019-03-15T11:24:20.666862Z"
    }
   },
   "outputs": [
    {
     "name": "stdout",
     "output_type": "stream",
     "text": [
      "Voller Datensatz (277, 12)\n",
      "Bereinigter Datensatz (132, 12)\n"
     ]
    }
   ],
   "source": [
    "# Daten bereinigen:\n",
    "data_clean = data[[#'Staffel',\n",
    "                   'Teilnehmerin',\n",
    "                   'Alter', \n",
    "                   'Größe (cm)', \n",
    "                   #'Haarfarbe', \n",
    "                   #'Augenfarbe', \n",
    "                   #'Hautfarbe',\n",
    "                   'Brustumfang (cm)', \n",
    "                   'Taillenumfang (cm)', \n",
    "                   'Hüftumfang (cm)', \n",
    "                   'HB', \n",
    "                   'TB', \n",
    "                   'TH', \n",
    "                   'GM', \n",
    "                   #'Platzierung', \n",
    "                   'Lebenszeit',\n",
    "                   'Lebenszeit (skaliert)'\n",
    "                ]]\n",
    "print('Voller Datensatz {}'.format(data_clean.shape))\n",
    "print('Bereinigter Datensatz {}'.format(data_clean.dropna().shape))\n",
    "data_clean = data_clean.dropna()\n",
    "data_clean.index = range(len(data_clean))"
   ]
  },
  {
   "cell_type": "markdown",
   "metadata": {},
   "source": [
    "# Kategorielle Attribute bearbeiten"
   ]
  },
  {
   "cell_type": "code",
   "execution_count": 18,
   "metadata": {
    "ExecuteTime": {
     "end_time": "2019-03-13T11:53:53.872975Z",
     "start_time": "2019-03-13T11:53:53.841937Z"
    }
   },
   "outputs": [],
   "source": [
    "# Liste kategorieller Attribute\n",
    "to_split = ['Haarfarbe','Augenfarbe', 'Hautfarbe']\n",
    "\n",
    "# Kategorielle Attribute als Index-Attribute hinzufügen\n",
    "for s in to_split:\n",
    "    # Erzeuge Dataframe mit one-hot-encoded Spalten\n",
    "    split = pd.get_dummies(data[s])\n",
    "    # Neue Spaltennamen: 'column_name = category'\n",
    "    column_names = [\"%s=%s\"%(s,x) for x in split.columns]\n",
    "    # Neue Spaltennamen den Spalten zuordnen\n",
    "    split.columns = column_names\n",
    "    # Neue Spalten dem ursprünglichen Dataframe hinzufügen\n",
    "    data_clean[column_names] = split\n",
    "\n",
    "# Originalattribute löschen\n",
    "for s in to_split:\n",
    "    data_clean.drop(s, axis=1, inplace=True)\n",
    "\n",
    "data_clean.head()"
   ]
  },
  {
   "cell_type": "code",
   "execution_count": 20,
   "metadata": {
    "ExecuteTime": {
     "end_time": "2019-03-15T11:24:39.911934Z",
     "start_time": "2019-03-15T11:24:39.896933Z"
    }
   },
   "outputs": [
    {
     "data": {
      "text/html": [
       "<div>\n",
       "<style scoped>\n",
       "    .dataframe tbody tr th:only-of-type {\n",
       "        vertical-align: middle;\n",
       "    }\n",
       "\n",
       "    .dataframe tbody tr th {\n",
       "        vertical-align: top;\n",
       "    }\n",
       "\n",
       "    .dataframe thead th {\n",
       "        text-align: right;\n",
       "    }\n",
       "</style>\n",
       "<table border=\"1\" class=\"dataframe\">\n",
       "  <thead>\n",
       "    <tr style=\"text-align: right;\">\n",
       "      <th></th>\n",
       "      <th>Alter</th>\n",
       "      <th>Größe (cm)</th>\n",
       "      <th>Brustumfang (cm)</th>\n",
       "      <th>Taillenumfang (cm)</th>\n",
       "      <th>Hüftumfang (cm)</th>\n",
       "      <th>HB</th>\n",
       "      <th>TB</th>\n",
       "      <th>TH</th>\n",
       "      <th>GM</th>\n",
       "      <th>Lebenszeit</th>\n",
       "      <th>Lebenszeit (skaliert)</th>\n",
       "    </tr>\n",
       "  </thead>\n",
       "  <tbody>\n",
       "    <tr>\n",
       "      <th>0</th>\n",
       "      <td>17</td>\n",
       "      <td>178.00</td>\n",
       "      <td>90.00</td>\n",
       "      <td>62.00</td>\n",
       "      <td>90.00</td>\n",
       "      <td>1.00</td>\n",
       "      <td>0.69</td>\n",
       "      <td>0.69</td>\n",
       "      <td>79.49</td>\n",
       "      <td>12.00</td>\n",
       "      <td>1.00</td>\n",
       "    </tr>\n",
       "    <tr>\n",
       "      <th>1</th>\n",
       "      <td>20</td>\n",
       "      <td>173.00</td>\n",
       "      <td>85.00</td>\n",
       "      <td>59.00</td>\n",
       "      <td>89.00</td>\n",
       "      <td>1.05</td>\n",
       "      <td>0.69</td>\n",
       "      <td>0.66</td>\n",
       "      <td>76.42</td>\n",
       "      <td>9.00</td>\n",
       "      <td>0.75</td>\n",
       "    </tr>\n",
       "    <tr>\n",
       "      <th>2</th>\n",
       "      <td>20</td>\n",
       "      <td>180.00</td>\n",
       "      <td>83.00</td>\n",
       "      <td>61.00</td>\n",
       "      <td>89.00</td>\n",
       "      <td>1.07</td>\n",
       "      <td>0.73</td>\n",
       "      <td>0.69</td>\n",
       "      <td>76.67</td>\n",
       "      <td>8.00</td>\n",
       "      <td>0.67</td>\n",
       "    </tr>\n",
       "    <tr>\n",
       "      <th>3</th>\n",
       "      <td>18</td>\n",
       "      <td>183.00</td>\n",
       "      <td>88.00</td>\n",
       "      <td>64.00</td>\n",
       "      <td>80.00</td>\n",
       "      <td>0.91</td>\n",
       "      <td>0.73</td>\n",
       "      <td>0.80</td>\n",
       "      <td>76.66</td>\n",
       "      <td>8.00</td>\n",
       "      <td>0.67</td>\n",
       "    </tr>\n",
       "    <tr>\n",
       "      <th>4</th>\n",
       "      <td>16</td>\n",
       "      <td>175.00</td>\n",
       "      <td>86.00</td>\n",
       "      <td>66.00</td>\n",
       "      <td>85.00</td>\n",
       "      <td>0.99</td>\n",
       "      <td>0.77</td>\n",
       "      <td>0.78</td>\n",
       "      <td>78.43</td>\n",
       "      <td>6.00</td>\n",
       "      <td>0.50</td>\n",
       "    </tr>\n",
       "  </tbody>\n",
       "</table>\n",
       "</div>"
      ],
      "text/plain": [
       "   Alter  Größe (cm)  Brustumfang (cm)  Taillenumfang (cm)  Hüftumfang (cm)  \\\n",
       "0     17      178.00             90.00               62.00            90.00   \n",
       "1     20      173.00             85.00               59.00            89.00   \n",
       "2     20      180.00             83.00               61.00            89.00   \n",
       "3     18      183.00             88.00               64.00            80.00   \n",
       "4     16      175.00             86.00               66.00            85.00   \n",
       "\n",
       "    HB   TB   TH    GM  Lebenszeit  Lebenszeit (skaliert)  \n",
       "0 1.00 0.69 0.69 79.49       12.00                   1.00  \n",
       "1 1.05 0.69 0.66 76.42        9.00                   0.75  \n",
       "2 1.07 0.73 0.69 76.67        8.00                   0.67  \n",
       "3 0.91 0.73 0.80 76.66        8.00                   0.67  \n",
       "4 0.99 0.77 0.78 78.43        6.00                   0.50  "
      ]
     },
     "execution_count": 20,
     "metadata": {},
     "output_type": "execute_result"
    }
   ],
   "source": [
    "# Nur numerische Einträge verwenden\n",
    "data_num = data_clean._get_numeric_data()\n",
    "data_num.head()"
   ]
  },
  {
   "cell_type": "markdown",
   "metadata": {},
   "source": [
    "# Modell erstellen"
   ]
  },
  {
   "cell_type": "code",
   "execution_count": 57,
   "metadata": {
    "ExecuteTime": {
     "end_time": "2019-03-15T11:43:50.627449Z",
     "start_time": "2019-03-15T11:43:50.618445Z"
    }
   },
   "outputs": [],
   "source": [
    "# Train/Test Split erstellen\n",
    "from sklearn.model_selection import train_test_split\n",
    "attributes = [c for c in data_num.columns if 'Lebenszeit' not in c]\n",
    "target = 'Lebenszeit (skaliert)'\n",
    "X_train, X_test = train_test_split(data_num, train_size=.75, random_state=42)\n",
    "\n",
    "y_train = X_train[target]\n",
    "y_test = X_test[target]\n",
    "\n",
    "#X_train = X_train[attributes]\n",
    "#X_test = X_test[attributes]"
   ]
  },
  {
   "cell_type": "code",
   "execution_count": 58,
   "metadata": {
    "ExecuteTime": {
     "end_time": "2019-03-15T11:43:52.611472Z",
     "start_time": "2019-03-15T11:43:52.517477Z"
    }
   },
   "outputs": [
    {
     "name": "stdout",
     "output_type": "stream",
     "text": [
      "<lifelines.CoxPHFitter: fitted with 99 observations, 0 censored>\n",
      "      duration col = 'Lebenszeit (skaliert)'\n",
      "number of subjects = 99\n",
      "  number of events = 99\n",
      "    log-likelihood = -286.08\n",
      "  time fit was run = 2019-03-15 11:43:52 UTC\n",
      "\n",
      "---\n",
      "                     coef                                exp(coef)  se(coef)     z      p  -log2(p)  lower 0.95  upper 0.95\n",
      "Alter               -0.01                                     0.99      0.06 -0.21   0.84      0.26       -0.13        0.10\n",
      "Größe (cm)          -0.01                                     0.99      0.04 -0.31   0.76      0.40       -0.09        0.06\n",
      "Brustumfang (cm)    -0.98                                     0.37      1.05 -0.94   0.35      1.52       -3.05        1.08\n",
      "Taillenumfang (cm)  -0.54                                     0.58      2.94 -0.18   0.85      0.23       -6.30        5.22\n",
      "Hüftumfang (cm)     -3.01                                     0.05      1.50 -2.01   0.04      4.49       -5.95       -0.07\n",
      "HB                  85.08 8924577282085720298580254946790211584.00     39.07  2.18   0.03      5.09        8.50      161.66\n",
      "TB                 -62.47                                     0.00     81.83 -0.76   0.45      1.17     -222.87       97.92\n",
      "TH                 -67.62                                     0.00     82.15 -0.82   0.41      1.28     -228.63       93.39\n",
      "GM                   5.00                                   148.97      4.60  1.09   0.28      1.85       -4.01       14.02\n",
      "Lebenszeit          -0.30                                     0.74      0.03 -9.11 <0.005     63.42       -0.36       -0.24\n",
      "---\n",
      "Concordance = 0.89\n",
      "Log-likelihood ratio test = 146.10 on 10 df, -log2(p)=85.13\n"
     ]
    }
   ],
   "source": [
    "from lifelines import CoxPHFitter\n",
    "\n",
    "cph = CoxPHFitter()\n",
    "cph.fit(X_train, duration_col='Lebenszeit (skaliert)')\n",
    "\n",
    "cph.print_summary()"
   ]
  },
  {
   "cell_type": "code",
   "execution_count": 59,
   "metadata": {
    "ExecuteTime": {
     "end_time": "2019-03-15T11:44:30.499611Z",
     "start_time": "2019-03-15T11:44:30.251617Z"
    }
   },
   "outputs": [
    {
     "data": {
      "text/plain": [
       "<matplotlib.axes._subplots.AxesSubplot at 0x29f2e5ab048>"
      ]
     },
     "execution_count": 59,
     "metadata": {},
     "output_type": "execute_result"
    },
    {
     "data": {
      "image/png": "[encoded data removed]",
      "text/plain": [
       "<Figure size 432x288 with 1 Axes>"
      ]
     },
     "metadata": {
      "needs_background": "light"
     },
     "output_type": "display_data"
    }
   ],
   "source": [
    "cph.plot_covariate_groups(attributes, np.array([X_train[attributes].mean().values, X_train[attributes].std().values]))"
   ]
  },
  {
   "cell_type": "code",
   "execution_count": 23,
   "metadata": {
    "ExecuteTime": {
     "end_time": "2019-03-15T11:25:29.492641Z",
     "start_time": "2019-03-15T11:25:29.461639Z"
    }
   },
   "outputs": [
    {
     "data": {
      "text/html": [
       "<div>\n",
       "<style scoped>\n",
       "    .dataframe tbody tr th:only-of-type {\n",
       "        vertical-align: middle;\n",
       "    }\n",
       "\n",
       "    .dataframe tbody tr th {\n",
       "        vertical-align: top;\n",
       "    }\n",
       "\n",
       "    .dataframe thead th {\n",
       "        text-align: right;\n",
       "    }\n",
       "</style>\n",
       "<table border=\"1\" class=\"dataframe\">\n",
       "  <thead>\n",
       "    <tr style=\"text-align: right;\">\n",
       "      <th></th>\n",
       "      <th>56</th>\n",
       "      <th>83</th>\n",
       "      <th>19</th>\n",
       "      <th>31</th>\n",
       "      <th>76</th>\n",
       "      <th>117</th>\n",
       "      <th>55</th>\n",
       "      <th>128</th>\n",
       "      <th>64</th>\n",
       "      <th>26</th>\n",
       "      <th>44</th>\n",
       "      <th>27</th>\n",
       "      <th>47</th>\n",
       "      <th>4</th>\n",
       "      <th>98</th>\n",
       "      <th>101</th>\n",
       "      <th>36</th>\n",
       "      <th>81</th>\n",
       "      <th>40</th>\n",
       "      <th>62</th>\n",
       "      <th>18</th>\n",
       "      <th>10</th>\n",
       "      <th>42</th>\n",
       "      <th>11</th>\n",
       "      <th>108</th>\n",
       "      <th>65</th>\n",
       "      <th>127</th>\n",
       "      <th>95</th>\n",
       "      <th>96</th>\n",
       "      <th>0</th>\n",
       "      <th>12</th>\n",
       "      <th>126</th>\n",
       "      <th>70</th>\n",
       "    </tr>\n",
       "    <tr>\n",
       "      <th>event_at</th>\n",
       "      <th></th>\n",
       "      <th></th>\n",
       "      <th></th>\n",
       "      <th></th>\n",
       "      <th></th>\n",
       "      <th></th>\n",
       "      <th></th>\n",
       "      <th></th>\n",
       "      <th></th>\n",
       "      <th></th>\n",
       "      <th></th>\n",
       "      <th></th>\n",
       "      <th></th>\n",
       "      <th></th>\n",
       "      <th></th>\n",
       "      <th></th>\n",
       "      <th></th>\n",
       "      <th></th>\n",
       "      <th></th>\n",
       "      <th></th>\n",
       "      <th></th>\n",
       "      <th></th>\n",
       "      <th></th>\n",
       "      <th></th>\n",
       "      <th></th>\n",
       "      <th></th>\n",
       "      <th></th>\n",
       "      <th></th>\n",
       "      <th></th>\n",
       "      <th></th>\n",
       "      <th></th>\n",
       "      <th></th>\n",
       "      <th></th>\n",
       "    </tr>\n",
       "  </thead>\n",
       "  <tbody>\n",
       "    <tr>\n",
       "      <th>0.00</th>\n",
       "      <td>1.00</td>\n",
       "      <td>1.00</td>\n",
       "      <td>1.00</td>\n",
       "      <td>1.00</td>\n",
       "      <td>1.00</td>\n",
       "      <td>1.00</td>\n",
       "      <td>1.00</td>\n",
       "      <td>1.00</td>\n",
       "      <td>1.00</td>\n",
       "      <td>1.00</td>\n",
       "      <td>1.00</td>\n",
       "      <td>1.00</td>\n",
       "      <td>1.00</td>\n",
       "      <td>1.00</td>\n",
       "      <td>1.00</td>\n",
       "      <td>1.00</td>\n",
       "      <td>1.00</td>\n",
       "      <td>1.00</td>\n",
       "      <td>1.00</td>\n",
       "      <td>1.00</td>\n",
       "      <td>1.00</td>\n",
       "      <td>1.00</td>\n",
       "      <td>1.00</td>\n",
       "      <td>1.00</td>\n",
       "      <td>1.00</td>\n",
       "      <td>1.00</td>\n",
       "      <td>1.00</td>\n",
       "      <td>1.00</td>\n",
       "      <td>1.00</td>\n",
       "      <td>1.00</td>\n",
       "      <td>1.00</td>\n",
       "      <td>1.00</td>\n",
       "      <td>1.00</td>\n",
       "    </tr>\n",
       "    <tr>\n",
       "      <th>0.06</th>\n",
       "      <td>1.00</td>\n",
       "      <td>1.00</td>\n",
       "      <td>0.98</td>\n",
       "      <td>1.00</td>\n",
       "      <td>1.00</td>\n",
       "      <td>1.00</td>\n",
       "      <td>1.00</td>\n",
       "      <td>1.00</td>\n",
       "      <td>0.97</td>\n",
       "      <td>1.00</td>\n",
       "      <td>0.99</td>\n",
       "      <td>1.00</td>\n",
       "      <td>0.99</td>\n",
       "      <td>0.99</td>\n",
       "      <td>1.00</td>\n",
       "      <td>1.00</td>\n",
       "      <td>1.00</td>\n",
       "      <td>1.00</td>\n",
       "      <td>1.00</td>\n",
       "      <td>0.99</td>\n",
       "      <td>1.00</td>\n",
       "      <td>1.00</td>\n",
       "      <td>1.00</td>\n",
       "      <td>1.00</td>\n",
       "      <td>0.99</td>\n",
       "      <td>0.98</td>\n",
       "      <td>1.00</td>\n",
       "      <td>1.00</td>\n",
       "      <td>1.00</td>\n",
       "      <td>1.00</td>\n",
       "      <td>1.00</td>\n",
       "      <td>1.00</td>\n",
       "      <td>1.00</td>\n",
       "    </tr>\n",
       "    <tr>\n",
       "      <th>0.07</th>\n",
       "      <td>1.00</td>\n",
       "      <td>0.99</td>\n",
       "      <td>0.95</td>\n",
       "      <td>0.99</td>\n",
       "      <td>1.00</td>\n",
       "      <td>0.99</td>\n",
       "      <td>1.00</td>\n",
       "      <td>1.00</td>\n",
       "      <td>0.92</td>\n",
       "      <td>1.00</td>\n",
       "      <td>0.98</td>\n",
       "      <td>1.00</td>\n",
       "      <td>0.96</td>\n",
       "      <td>0.96</td>\n",
       "      <td>1.00</td>\n",
       "      <td>1.00</td>\n",
       "      <td>1.00</td>\n",
       "      <td>1.00</td>\n",
       "      <td>0.99</td>\n",
       "      <td>0.98</td>\n",
       "      <td>0.99</td>\n",
       "      <td>1.00</td>\n",
       "      <td>0.98</td>\n",
       "      <td>1.00</td>\n",
       "      <td>0.98</td>\n",
       "      <td>0.93</td>\n",
       "      <td>1.00</td>\n",
       "      <td>1.00</td>\n",
       "      <td>0.99</td>\n",
       "      <td>0.99</td>\n",
       "      <td>1.00</td>\n",
       "      <td>1.00</td>\n",
       "      <td>1.00</td>\n",
       "    </tr>\n",
       "    <tr>\n",
       "      <th>0.08</th>\n",
       "      <td>0.99</td>\n",
       "      <td>0.99</td>\n",
       "      <td>0.91</td>\n",
       "      <td>0.99</td>\n",
       "      <td>1.00</td>\n",
       "      <td>0.98</td>\n",
       "      <td>1.00</td>\n",
       "      <td>1.00</td>\n",
       "      <td>0.87</td>\n",
       "      <td>1.00</td>\n",
       "      <td>0.97</td>\n",
       "      <td>1.00</td>\n",
       "      <td>0.93</td>\n",
       "      <td>0.94</td>\n",
       "      <td>1.00</td>\n",
       "      <td>1.00</td>\n",
       "      <td>1.00</td>\n",
       "      <td>1.00</td>\n",
       "      <td>0.99</td>\n",
       "      <td>0.96</td>\n",
       "      <td>0.98</td>\n",
       "      <td>1.00</td>\n",
       "      <td>0.97</td>\n",
       "      <td>1.00</td>\n",
       "      <td>0.97</td>\n",
       "      <td>0.89</td>\n",
       "      <td>1.00</td>\n",
       "      <td>1.00</td>\n",
       "      <td>0.98</td>\n",
       "      <td>0.99</td>\n",
       "      <td>0.99</td>\n",
       "      <td>1.00</td>\n",
       "      <td>1.00</td>\n",
       "    </tr>\n",
       "    <tr>\n",
       "      <th>0.12</th>\n",
       "      <td>0.99</td>\n",
       "      <td>0.98</td>\n",
       "      <td>0.90</td>\n",
       "      <td>0.98</td>\n",
       "      <td>1.00</td>\n",
       "      <td>0.97</td>\n",
       "      <td>1.00</td>\n",
       "      <td>1.00</td>\n",
       "      <td>0.84</td>\n",
       "      <td>1.00</td>\n",
       "      <td>0.96</td>\n",
       "      <td>1.00</td>\n",
       "      <td>0.91</td>\n",
       "      <td>0.92</td>\n",
       "      <td>1.00</td>\n",
       "      <td>1.00</td>\n",
       "      <td>1.00</td>\n",
       "      <td>1.00</td>\n",
       "      <td>0.99</td>\n",
       "      <td>0.95</td>\n",
       "      <td>0.98</td>\n",
       "      <td>1.00</td>\n",
       "      <td>0.97</td>\n",
       "      <td>1.00</td>\n",
       "      <td>0.96</td>\n",
       "      <td>0.86</td>\n",
       "      <td>1.00</td>\n",
       "      <td>1.00</td>\n",
       "      <td>0.97</td>\n",
       "      <td>0.98</td>\n",
       "      <td>0.99</td>\n",
       "      <td>1.00</td>\n",
       "      <td>1.00</td>\n",
       "    </tr>\n",
       "  </tbody>\n",
       "</table>\n",
       "</div>"
      ],
      "text/plain": [
       "          56   83   19   31   76   117  55   128  64   26   44   27   47   \\\n",
       "event_at                                                                    \n",
       "0.00     1.00 1.00 1.00 1.00 1.00 1.00 1.00 1.00 1.00 1.00 1.00 1.00 1.00   \n",
       "0.06     1.00 1.00 0.98 1.00 1.00 1.00 1.00 1.00 0.97 1.00 0.99 1.00 0.99   \n",
       "0.07     1.00 0.99 0.95 0.99 1.00 0.99 1.00 1.00 0.92 1.00 0.98 1.00 0.96   \n",
       "0.08     0.99 0.99 0.91 0.99 1.00 0.98 1.00 1.00 0.87 1.00 0.97 1.00 0.93   \n",
       "0.12     0.99 0.98 0.90 0.98 1.00 0.97 1.00 1.00 0.84 1.00 0.96 1.00 0.91   \n",
       "\n",
       "          4    98   101  36   81   40   62   18   10   42   11   108  65   \\\n",
       "event_at                                                                    \n",
       "0.00     1.00 1.00 1.00 1.00 1.00 1.00 1.00 1.00 1.00 1.00 1.00 1.00 1.00   \n",
       "0.06     0.99 1.00 1.00 1.00 1.00 1.00 0.99 1.00 1.00 1.00 1.00 0.99 0.98   \n",
       "0.07     0.96 1.00 1.00 1.00 1.00 0.99 0.98 0.99 1.00 0.98 1.00 0.98 0.93   \n",
       "0.08     0.94 1.00 1.00 1.00 1.00 0.99 0.96 0.98 1.00 0.97 1.00 0.97 0.89   \n",
       "0.12     0.92 1.00 1.00 1.00 1.00 0.99 0.95 0.98 1.00 0.97 1.00 0.96 0.86   \n",
       "\n",
       "          127  95   96   0    12   126  70   \n",
       "event_at                                     \n",
       "0.00     1.00 1.00 1.00 1.00 1.00 1.00 1.00  \n",
       "0.06     1.00 1.00 1.00 1.00 1.00 1.00 1.00  \n",
       "0.07     1.00 1.00 0.99 0.99 1.00 1.00 1.00  \n",
       "0.08     1.00 1.00 0.98 0.99 0.99 1.00 1.00  \n",
       "0.12     1.00 1.00 0.97 0.98 0.99 1.00 1.00  "
      ]
     },
     "execution_count": 23,
     "metadata": {},
     "output_type": "execute_result"
    }
   ],
   "source": [
    "unconditioned_sf = cph.predict_survival_function(X_test)\n",
    "unconditioned_sf.head()"
   ]
  },
  {
   "cell_type": "code",
   "execution_count": 27,
   "metadata": {
    "ExecuteTime": {
     "end_time": "2019-03-15T11:27:03.158223Z",
     "start_time": "2019-03-15T11:27:02.946184Z"
    }
   },
   "outputs": [
    {
     "data": {
      "text/plain": [
       "<matplotlib.legend.Legend at 0x29f2d20d898>"
      ]
     },
     "execution_count": 27,
     "metadata": {},
     "output_type": "execute_result"
    },
    {
     "data": {
      "image/png": "[encoded data removed]",
      "text/plain": [
       "<Figure size 648x432 with 1 Axes>"
      ]
     },
     "metadata": {
      "needs_background": "light"
     },
     "output_type": "display_data"
    }
   ],
   "source": [
    "subjects = unconditioned_sf.columns[:5]\n",
    "unconditioned_sf[subjects].plot(figsize=(9,6));\n",
    "plt.legend()"
   ]
  },
  {
   "cell_type": "code",
   "execution_count": 29,
   "metadata": {
    "ExecuteTime": {
     "end_time": "2019-03-15T11:27:50.857710Z",
     "start_time": "2019-03-15T11:27:50.840714Z"
    }
   },
   "outputs": [
    {
     "data": {
      "text/html": [
       "<div>\n",
       "<style scoped>\n",
       "    .dataframe tbody tr th:only-of-type {\n",
       "        vertical-align: middle;\n",
       "    }\n",
       "\n",
       "    .dataframe tbody tr th {\n",
       "        vertical-align: top;\n",
       "    }\n",
       "\n",
       "    .dataframe thead th {\n",
       "        text-align: right;\n",
       "    }\n",
       "</style>\n",
       "<table border=\"1\" class=\"dataframe\">\n",
       "  <thead>\n",
       "    <tr style=\"text-align: right;\">\n",
       "      <th></th>\n",
       "      <th>Staffel</th>\n",
       "      <th>Teilnehmerin</th>\n",
       "      <th>Platzierung</th>\n",
       "      <th>Alter</th>\n",
       "      <th>Größe (cm)</th>\n",
       "      <th>Haarfarbe</th>\n",
       "      <th>Augenfarbe</th>\n",
       "      <th>Hautfarbe</th>\n",
       "      <th>Brustumfang (cm)</th>\n",
       "      <th>Taillenumfang (cm)</th>\n",
       "      <th>Hüftumfang (cm)</th>\n",
       "      <th>Kleidergröße</th>\n",
       "      <th>Schuhgröße</th>\n",
       "      <th>HB</th>\n",
       "      <th>TB</th>\n",
       "      <th>TH</th>\n",
       "      <th>GM</th>\n",
       "      <th>Lebenszeit</th>\n",
       "      <th>Lebenszeit (skaliert)</th>\n",
       "    </tr>\n",
       "  </thead>\n",
       "  <tbody>\n",
       "    <tr>\n",
       "      <th>31</th>\n",
       "      <td>3</td>\n",
       "      <td>Wanda Badwal</td>\n",
       "      <td>4.00</td>\n",
       "      <td>23</td>\n",
       "      <td>173.00</td>\n",
       "      <td>braun</td>\n",
       "      <td>braun/grün</td>\n",
       "      <td>hell</td>\n",
       "      <td>83.00</td>\n",
       "      <td>61.00</td>\n",
       "      <td>88.00</td>\n",
       "      <td>36.00</td>\n",
       "      <td>37.00</td>\n",
       "      <td>1.06</td>\n",
       "      <td>0.73</td>\n",
       "      <td>0.69</td>\n",
       "      <td>76.38</td>\n",
       "      <td>16.00</td>\n",
       "      <td>0.84</td>\n",
       "    </tr>\n",
       "    <tr>\n",
       "      <th>83</th>\n",
       "      <td>6</td>\n",
       "      <td>Amelie Klever</td>\n",
       "      <td>3.00</td>\n",
       "      <td>16</td>\n",
       "      <td>173.00</td>\n",
       "      <td>blond</td>\n",
       "      <td>blau</td>\n",
       "      <td>hell</td>\n",
       "      <td>84.00</td>\n",
       "      <td>63.00</td>\n",
       "      <td>87.00</td>\n",
       "      <td>nan</td>\n",
       "      <td>nan</td>\n",
       "      <td>1.04</td>\n",
       "      <td>0.75</td>\n",
       "      <td>0.72</td>\n",
       "      <td>77.22</td>\n",
       "      <td>23.00</td>\n",
       "      <td>0.92</td>\n",
       "    </tr>\n",
       "  </tbody>\n",
       "</table>\n",
       "</div>"
      ],
      "text/plain": [
       "    Staffel    Teilnehmerin  Platzierung  Alter  Größe (cm) Haarfarbe  \\\n",
       "31        3   Wanda Badwal          4.00     23      173.00     braun   \n",
       "83        6  Amelie Klever          3.00     16      173.00     blond   \n",
       "\n",
       "    Augenfarbe Hautfarbe  Brustumfang (cm)  Taillenumfang (cm)  \\\n",
       "31  braun/grün      hell             83.00               61.00   \n",
       "83        blau      hell             84.00               63.00   \n",
       "\n",
       "    Hüftumfang (cm)  Kleidergröße  Schuhgröße   HB   TB   TH    GM  \\\n",
       "31            88.00         36.00       37.00 1.06 0.73 0.69 76.38   \n",
       "83            87.00           nan         nan 1.04 0.75 0.72 77.22   \n",
       "\n",
       "    Lebenszeit  Lebenszeit (skaliert)  \n",
       "31       16.00                   0.84  \n",
       "83       23.00                   0.92  "
      ]
     },
     "execution_count": 29,
     "metadata": {},
     "output_type": "execute_result"
    }
   ],
   "source": [
    "data.iloc[[31,83]]"
   ]
  },
  {
   "cell_type": "code",
   "execution_count": 31,
   "metadata": {
    "ExecuteTime": {
     "end_time": "2019-03-15T11:28:51.126975Z",
     "start_time": "2019-03-15T11:28:50.912975Z"
    }
   },
   "outputs": [
    {
     "data": {
      "text/plain": [
       "<matplotlib.legend.Legend at 0x29f2e35c7b8>"
      ]
     },
     "execution_count": 31,
     "metadata": {},
     "output_type": "execute_result"
    },
    {
     "data": {
      "image/png": "[encoded data removed]",
      "text/plain": [
       "<Figure size 648x432 with 1 Axes>"
      ]
     },
     "metadata": {
      "needs_background": "light"
     },
     "output_type": "display_data"
    }
   ],
   "source": [
    "from lifelines.utils import median_survival_times, qth_survival_times\n",
    "subject=0\n",
    "\n",
    "predictions_50 = median_survival_times(unconditioned_sf)\n",
    "predictions_75 = qth_survival_times(0.75, unconditioned_sf)\n",
    "\n",
    "unconditioned_sf[subject].plot(figsize=(9,6));\n",
    "\n",
    "plt.hlines([0.5, 0.75], 0, 1, alpha=0.5, label=\"percentiles\")\n",
    "\n",
    "plt.scatter(median_survival_times(unconditioned_sf[subject]), 0.5,  color=\"#E24A33\", label=\"median prediction\", zorder=20)\n",
    "plt.scatter(qth_survival_times(0.75, unconditioned_sf[subject]), 0.75,  color=\"#467821\", label=\"q=75 prediction\", zorder=20)\n",
    "\n",
    "plt.legend()"
   ]
  },
  {
   "cell_type": "code",
   "execution_count": null,
   "metadata": {},
   "outputs": [],
   "source": []
  }
 ],
 "metadata": {
  "kernelspec": {
   "display_name": "Python 3",
   "language": "python",
   "name": "python3"
  },
  "language_info": {
   "codemirror_mode": {
    "name": "ipython",
    "version": 3
   },
   "file_extension": ".py",
   "mimetype": "text/x-python",
   "name": "python",
   "nbconvert_exporter": "python",
   "pygments_lexer": "ipython3",
   "version": "3.7.1"
  },
  "toc": {
   "base_numbering": 1,
   "nav_menu": {},
   "number_sections": true,
   "sideBar": true,
   "skip_h1_title": false,
   "title_cell": "Table of Contents",
   "title_sidebar": "Contents",
   "toc_cell": false,
   "toc_position": {},
   "toc_section_display": true,
   "toc_window_display": true
  },
  "varInspector": {
   "cols": {
    "lenName": 16,
    "lenType": 16,
    "lenVar": 40
   },
   "kernels_config": {
    "python": {
     "delete_cmd_postfix": "",
     "delete_cmd_prefix": "del ",
     "library": "var_list.py",
     "varRefreshCmd": "print(var_dic_list())"
    },
    "r": {
     "delete_cmd_postfix": ") ",
     "delete_cmd_prefix": "rm(",
     "library": "var_list.r",
     "varRefreshCmd": "cat(var_dic_list()) "
    }
   },
   "types_to_exclude": [
    "module",
    "function",
    "builtin_function_or_method",
    "instance",
    "_Feature"
   ],
   "window_display": false
  }
 },
 "nbformat": 4,
 "nbformat_minor": 2
}
